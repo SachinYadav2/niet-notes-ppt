{
 "cells": [
  {
   "cell_type": "markdown",
   "metadata": {},
   "source": [
    "Formatted Output with print STATEMENT"
   ]
  },
  {
   "cell_type": "code",
   "execution_count": null,
   "metadata": {},
   "outputs": [],
   "source": [
    "print(\"Hello Class! Welcome to Workshop on Python\")"
   ]
  },
  {
   "cell_type": "code",
   "execution_count": null,
   "metadata": {},
   "outputs": [],
   "source": [
    "print(\"/'Hello Class! Welcome to Workshop on Python/'\")"
   ]
  },
  {
   "cell_type": "code",
   "execution_count": null,
   "metadata": {},
   "outputs": [],
   "source": [
    "print(\"\\\"Hello Class! Welcome to Workshop on Python\\\"\")"
   ]
  },
  {
   "cell_type": "code",
   "execution_count": null,
   "metadata": {},
   "outputs": [],
   "source": [
    "print(\"a\\\n",
    "b\\\n",
    "c\")"
   ]
  },
  {
   "cell_type": "code",
   "execution_count": null,
   "metadata": {},
   "outputs": [],
   "source": []
  },
  {
   "cell_type": "code",
   "execution_count": null,
   "metadata": {},
   "outputs": [],
   "source": [
    "print(\"Python\\nJava\")            #NewLine character"
   ]
  },
  {
   "cell_type": "code",
   "execution_count": null,
   "metadata": {},
   "outputs": [],
   "source": [
    "print(\"Python\\tJava\")             #Tab"
   ]
  },
  {
   "cell_type": "code",
   "execution_count": null,
   "metadata": {},
   "outputs": [],
   "source": [
    "print(\"Python\\bJava\")             #Backspace"
   ]
  },
  {
   "cell_type": "code",
   "execution_count": null,
   "metadata": {},
   "outputs": [],
   "source": [
    "print(\"Python\\rJava\")             #Carriage Return"
   ]
  },
  {
   "cell_type": "code",
   "execution_count": null,
   "metadata": {},
   "outputs": [],
   "source": [
    "print('\\u011C \\N{downwards arrow}')             #Unicode Characters"
   ]
  },
  {
   "cell_type": "markdown",
   "metadata": {},
   "source": [
    "# Raw String"
   ]
  },
  {
   "cell_type": "markdown",
   "metadata": {},
   "source": [
    "A raw string literal is preceded by r or R, which specifies that escape sequences in the associated string are not translated."
   ]
  },
  {
   "cell_type": "code",
   "execution_count": null,
   "metadata": {},
   "outputs": [],
   "source": [
    "print(\"Python\\nJava\")\n",
    "print(r\"Python\\nJava\")"
   ]
  },
  {
   "cell_type": "code",
   "execution_count": null,
   "metadata": {},
   "outputs": [],
   "source": [
    "x = 5\n",
    "\n",
    "print(\"value of x is \", x)"
   ]
  },
  {
   "cell_type": "code",
   "execution_count": null,
   "metadata": {},
   "outputs": [],
   "source": [
    "x = 10\n",
    "y = 15\n",
    "\n",
    "print(\"x = \",x,\" y = \",y)"
   ]
  },
  {
   "cell_type": "code",
   "execution_count": null,
   "metadata": {},
   "outputs": [],
   "source": [
    "print(f\"x = {x} y = {y}\".format(x,y))"
   ]
  },
  {
   "cell_type": "code",
   "execution_count": null,
   "metadata": {},
   "outputs": [],
   "source": [
    "print(f\"x = {x} y = {y}\".format(x,y))"
   ]
  },
  {
   "cell_type": "code",
   "execution_count": null,
   "metadata": {},
   "outputs": [],
   "source": [
    "print(\"x = {0} y = {0}, z = {1}\".format(x,y))"
   ]
  },
  {
   "cell_type": "code",
   "execution_count": null,
   "metadata": {},
   "outputs": [],
   "source": [
    "x = 'a'\n",
    "y = 't'\n",
    "print(\"x = {} y = {}\".format(x,y))"
   ]
  },
  {
   "cell_type": "code",
   "execution_count": null,
   "metadata": {},
   "outputs": [],
   "source": [
    "print(\"x = {1} y = {0}\".format(x,y))"
   ]
  },
  {
   "cell_type": "code",
   "execution_count": null,
   "metadata": {},
   "outputs": [],
   "source": [
    "a = 34\n",
    "b = 45678\n",
    "c = 785\n",
    "print(\"%7d\"%(a))\n",
    "print(\"%7d\"%(b))\n",
    "print(\"%7d\"%(c))"
   ]
  },
  {
   "cell_type": "code",
   "execution_count": null,
   "metadata": {},
   "outputs": [],
   "source": [
    "print(\"a = %d, b = %d, c = %d\"%(a,b,c))"
   ]
  },
  {
   "cell_type": "code",
   "execution_count": null,
   "metadata": {},
   "outputs": [],
   "source": [
    "z=5/3\n",
    "print(\"z = %0.2f\"%z)"
   ]
  },
  {
   "cell_type": "code",
   "execution_count": null,
   "metadata": {},
   "outputs": [],
   "source": [
    "a = 456\n",
    "b = 458967\n",
    "c = 87555698\n",
    "d = 27\n",
    "print(\"%d\"%a)\n",
    "print(\"%d\"%b)\n",
    "print(\"%d\"%c)\n",
    "print(\"%d\"%d)"
   ]
  },
  {
   "cell_type": "code",
   "execution_count": null,
   "metadata": {},
   "outputs": [],
   "source": [
    "t = 4.6789\n",
    "print(\"%f\"%t)\n",
    "print(\"%d\"%t)"
   ]
  },
  {
   "cell_type": "code",
   "execution_count": null,
   "metadata": {},
   "outputs": [],
   "source": [
    "r = 21\n",
    "\n",
    "print(\"%c\"%r)"
   ]
  },
  {
   "cell_type": "code",
   "execution_count": null,
   "metadata": {},
   "outputs": [],
   "source": [
    "a = 456\n",
    "b = 458967\n",
    "c = 87555698\n",
    "d = 27\n",
    "print(\"%8d\"%a)\n",
    "print(\"%8d\"%b)\n",
    "print(\"%8d\"%c)\n",
    "print(\"%8d\"%d)"
   ]
  },
  {
   "cell_type": "code",
   "execution_count": null,
   "metadata": {},
   "outputs": [],
   "source": [
    "a = 45.256\n",
    "b = 45.6388967\n",
    "c = 8755.5698\n",
    "d = 27.0\n",
    "print(\"%f\"%a)\n",
    "print(\"%f\"%b)\n",
    "print(\"%f\"%c)\n",
    "print(\"%f\"%d)"
   ]
  },
  {
   "cell_type": "code",
   "execution_count": null,
   "metadata": {},
   "outputs": [],
   "source": [
    "a = 45.256\n",
    "b = 45.6388967\n",
    "c = 8755.5698\n",
    "d = 27.0\n",
    "print(\"%0.4f\"%a)\n",
    "print(\"%0.4f\"%b)\n",
    "print(\"%0.4f\"%c)\n",
    "print(\"%0.4f\"%d)"
   ]
  },
  {
   "cell_type": "code",
   "execution_count": null,
   "metadata": {},
   "outputs": [],
   "source": [
    "a = 2365\n",
    "b = 34.76578955\n",
    "print(\"a = {0:6d}, b = {1:0.3f}\".format(a,b))\n"
   ]
  },
  {
   "cell_type": "code",
   "execution_count": null,
   "metadata": {},
   "outputs": [],
   "source": [
    "print(\"a = {p:15d}, b = {q:10.3f}\".format(p = 548,q = 83.259))"
   ]
  },
  {
   "cell_type": "code",
   "execution_count": null,
   "metadata": {},
   "outputs": [],
   "source": [
    "a = 't'\n",
    "print(\"%c\"%(a))\n"
   ]
  },
  {
   "cell_type": "markdown",
   "metadata": {},
   "source": [
    "Formatting output using the String method"
   ]
  },
  {
   "cell_type": "code",
   "execution_count": null,
   "metadata": {},
   "outputs": [],
   "source": [
    "str = \"PYTHON WORKSHOP\"\n",
    "print(str.ljust(50,\"*\"))\n",
    "print(str.rjust(79,\"+\"))\n",
    "print(str.center(50,\"$\"))"
   ]
  },
  {
   "cell_type": "markdown",
   "metadata": {},
   "source": [
    "# DATA TYPES"
   ]
  },
  {
   "cell_type": "code",
   "execution_count": null,
   "metadata": {},
   "outputs": [],
   "source": [
    "p = 256\n",
    "q = 0b110\n",
    "r = 0o256\n",
    "s = 0x256\n",
    "abd = 9\n",
    "cde = 34\n",
    "abd+cde\n",
    "# print(\"Base 10 :\",p)\n",
    "# print(\"Base 2 :\",q)\n",
    "# print(\"Base 8 :\",r)\n",
    "# print(\"Base 16 :\",s)"
   ]
  },
  {
   "cell_type": "code",
   "execution_count": null,
   "metadata": {},
   "outputs": [],
   "source": [
    "a = 0.5e3\n",
    "\n",
    "print(a)\n",
    "# type(a)"
   ]
  },
  {
   "cell_type": "code",
   "execution_count": null,
   "metadata": {},
   "outputs": [],
   "source": [
    "b = 4.2e-4\n",
    "\n",
    "print(b)"
   ]
  },
  {
   "cell_type": "code",
   "execution_count": null,
   "metadata": {},
   "outputs": [],
   "source": [
    "c = 1.79e308            #Maximum Value\n",
    "\n",
    "print(c)"
   ]
  },
  {
   "cell_type": "code",
   "execution_count": null,
   "metadata": {},
   "outputs": [],
   "source": [
    "# COMPLEX NUMBERS\n",
    "\n",
    "d = 6 + 7j\n",
    "\n",
    "print(d)\n",
    "type(d)"
   ]
  },
  {
   "cell_type": "code",
   "execution_count": null,
   "metadata": {},
   "outputs": [],
   "source": [
    "# add two complex numbers\n",
    "\n",
    "a = 3 + 4j\n",
    "\n",
    "b = 5 + 8j\n",
    "\n",
    "c = a + b\n",
    "\n",
    "print(c)"
   ]
  },
  {
   "cell_type": "code",
   "execution_count": null,
   "metadata": {},
   "outputs": [],
   "source": [
    "# Boolean data type\n",
    "\n",
    "a = True\n",
    "\n",
    "type(a)\n",
    "\n",
    "print(a)"
   ]
  },
  {
   "cell_type": "raw",
   "metadata": {},
   "source": [
    "MATH FUNCTION\n",
    "abs()\t    Returns absolute value of a number\n",
    "divmod()\tReturns quotient and remainder of integer division\n",
    "max()\t    Returns the largest of the given arguments or items in an iterable\n",
    "min()\t    Returns the smallest of the given arguments or items in an iterable\n",
    "pow()\t    Raises a number to a power\n",
    "round()\t    Rounds a floating-point value\n",
    "sum()\t    Sums the items of an iterable"
   ]
  },
  {
   "cell_type": "code",
   "execution_count": null,
   "metadata": {},
   "outputs": [],
   "source": [
    "a = 16\n",
    "\n",
    "b = 4\n",
    "\n",
    "print(divmod(a,b))\n",
    "\n"
   ]
  },
  {
   "cell_type": "code",
   "execution_count": null,
   "metadata": {},
   "outputs": [],
   "source": [
    "a = [5,4,8,6,87,56]\n",
    "\n",
    "print(sum(a))"
   ]
  },
  {
   "cell_type": "code",
   "execution_count": null,
   "metadata": {},
   "outputs": [],
   "source": [
    "pow(2,4)"
   ]
  },
  {
   "cell_type": "code",
   "execution_count": null,
   "metadata": {},
   "outputs": [],
   "source": [
    "round(52.65)"
   ]
  },
  {
   "cell_type": "code",
   "execution_count": null,
   "metadata": {},
   "outputs": [],
   "source": [
    "b = {5,2,3,6}\n",
    "\n",
    "sum(b)"
   ]
  },
  {
   "cell_type": "raw",
   "metadata": {},
   "source": [
    "TYPE CONVERSION\n",
    "chr()\tReturns string representation of character given by integer argument\n",
    "ord()\tReturns integer representation of a character\n",
    "bin()\tConverts an integer to a binary string\n",
    "oct()\tConverts an integer to an octal string\n",
    "hex()\tConverts an integer to a hexadecimal string\n"
   ]
  },
  {
   "cell_type": "code",
   "execution_count": null,
   "metadata": {},
   "outputs": [],
   "source": [
    "print(chr(65))"
   ]
  },
  {
   "cell_type": "code",
   "execution_count": null,
   "metadata": {},
   "outputs": [],
   "source": [
    "print(ord('5'))"
   ]
  },
  {
   "cell_type": "code",
   "execution_count": null,
   "metadata": {},
   "outputs": [],
   "source": [
    "x = oct(13)\n",
    "print(x)"
   ]
  },
  {
   "cell_type": "code",
   "execution_count": null,
   "metadata": {},
   "outputs": [],
   "source": [
    "a = 56\n",
    "b = 78\n",
    "print(a)\n",
    "print(b)"
   ]
  },
  {
   "cell_type": "code",
   "execution_count": null,
   "metadata": {},
   "outputs": [],
   "source": [
    "a = 57\n",
    "print(a)"
   ]
  },
  {
   "cell_type": "markdown",
   "metadata": {},
   "source": [
    "Strings"
   ]
  },
  {
   "cell_type": "code",
   "execution_count": null,
   "metadata": {},
   "outputs": [],
   "source": [
    "x = \"Hello NIET\"\n",
    "print(x)"
   ]
  },
  {
   "cell_type": "code",
   "execution_count": null,
   "metadata": {},
   "outputs": [],
   "source": [
    "str = \"Welcome to PYTHON Workshop\"\n",
    "str = str[::-1]\n",
    "print(str)"
   ]
  },
  {
   "cell_type": "code",
   "execution_count": null,
   "metadata": {},
   "outputs": [],
   "source": [
    "x = 124657981326598323206549843130\n",
    "print(x)\n",
    "type(x)"
   ]
  },
  {
   "cell_type": "code",
   "execution_count": null,
   "metadata": {},
   "outputs": [],
   "source": [
    "x = 1.73e-2\n",
    "print(x)"
   ]
  },
  {
   "cell_type": "code",
   "execution_count": null,
   "metadata": {},
   "outputs": [],
   "source": [
    "if 0:\n",
    "    print(\"Hello\")\n",
    "elif 7:\n",
    "    print(\"Hi\")\n",
    "elif 6:\n",
    "    print(\"ABC\")\n",
    "else:\n",
    "    print(\"XYZ\")"
   ]
  },
  {
   "cell_type": "code",
   "execution_count": null,
   "metadata": {},
   "outputs": [],
   "source": [
    "n1 = int (input(\"Enter first no \"))\n",
    "n2 = int (input(\"Enter second no \"))\n",
    "sum = 0\n",
    "for n in range(n1,n2+1):\n",
    "    t = 0\n",
    "    for i in range(2,n):\n",
    "        if(n%i == 0):\n",
    "            t = 1\n",
    "            break\n",
    "    if (t == 0):\n",
    "        print(n, end =\" \")\n",
    "        sum = sum + n\n",
    "print(\"Sum = \",sum)\n",
    "if sum%2 == 0:\n",
    "    print(\"Sum is Even\")\n",
    "else:\n",
    "    print(\"Sum is Odd\")\n",
    "        \n",
    "\n",
    "    \n"
   ]
  },
  {
   "cell_type": "code",
   "execution_count": null,
   "metadata": {},
   "outputs": [],
   "source": [
    "# break statement\n",
    "\n",
    "for i in range(1,21):\n",
    "    if i %5 == 0:\n",
    "        break\n",
    "    print(i, end = \" \")"
   ]
  },
  {
   "cell_type": "code",
   "execution_count": null,
   "metadata": {},
   "outputs": [],
   "source": [
    "for i in range(1,21):\n",
    "    if i %5 != 0:\n",
    "        continue\n",
    "    print(i, end = \" \")"
   ]
  },
  {
   "cell_type": "code",
   "execution_count": null,
   "metadata": {},
   "outputs": [],
   "source": [
    "for i in range(1,21):\n",
    "    pass            #this will be implemented later\n",
    "                        # we do not use it in program "
   ]
  },
  {
   "cell_type": "code",
   "execution_count": null,
   "metadata": {},
   "outputs": [],
   "source": [
    "for i in range (1,5):\n",
    "    for j in range(1,5):\n",
    "        print(\"*\", end = \" \")\n",
    "    print()"
   ]
  },
  {
   "cell_type": "code",
   "execution_count": null,
   "metadata": {},
   "outputs": [],
   "source": [
    "i = 1\n",
    "while(i<5):\n",
    "    j = 1\n",
    "    while(j<5):\n",
    "        print(\"*\", end = \" \")\n",
    "        j = j+1\n",
    "    print()\n",
    "    i = i+1"
   ]
  },
  {
   "cell_type": "code",
   "execution_count": null,
   "metadata": {},
   "outputs": [],
   "source": [
    "for i in range (1,5):\n",
    "    for j in range(i):\n",
    "        print(\"*\", end = \" \")\n",
    "    print()"
   ]
  },
  {
   "cell_type": "code",
   "execution_count": null,
   "metadata": {},
   "outputs": [],
   "source": [
    "for i in range (1,6):\n",
    "    for j in range(2*i-1):\n",
    "        print(\"*\", end = \" \")\n",
    "    print()"
   ]
  },
  {
   "cell_type": "code",
   "execution_count": null,
   "metadata": {},
   "outputs": [],
   "source": [
    "for i in range (1,6):\n",
    "    for j in range(5-i):\n",
    "        print(\" \", end = \" \")\n",
    "    for k in range(i):\n",
    "        print(\"*\", end = \" \")\n",
    "    print()"
   ]
  },
  {
   "cell_type": "code",
   "execution_count": null,
   "metadata": {},
   "outputs": [],
   "source": [
    "for i in range (1,5):\n",
    "    for j in range(5-i):\n",
    "        print(\" \", end = \" \")\n",
    "    for k in range(2*i-1):\n",
    "        if k==0 or k == 2*i-2:\n",
    "            print(\"*\", end = \" \")\n",
    "        else:\n",
    "            print(\" \", end = \" \")\n",
    "    print()\n",
    "i=5\n",
    "for k in range(2*i-1):\n",
    "    print(\"*\", end = \" \")"
   ]
  },
  {
   "cell_type": "code",
   "execution_count": null,
   "metadata": {},
   "outputs": [],
   "source": [
    "for i in range (1,6):\n",
    "    for j in range(5-i):\n",
    "        print(\" \", end = \" \")\n",
    "    for k in range(2*i-1):\n",
    "        print(\"*\", end = \" \")\n",
    "    print()\n",
    "for i in range (1,5):\n",
    "    for j in range(i):\n",
    "        print(\" \", end = \" \")\n",
    "    for k in range(9-2*i):\n",
    "        print(\"*\", end = \" \")\n",
    "    print()"
   ]
  },
  {
   "cell_type": "code",
   "execution_count": null,
   "metadata": {},
   "outputs": [],
   "source": [
    " def add (a,b):\n",
    "        sum = a+b\n",
    "        print(sum)\n",
    "        \n",
    "add(5.25,6)\n",
    "type(add(5.25,6))"
   ]
  },
  {
   "cell_type": "code",
   "execution_count": null,
   "metadata": {},
   "outputs": [],
   "source": [
    "def add (a,b,c=10):\n",
    "        sum = a+b+c\n",
    "        return sum\n",
    "        \n",
    "r = add(3,7,25)\n",
    "print(r)\n"
   ]
  },
  {
   "cell_type": "code",
   "execution_count": null,
   "metadata": {},
   "outputs": [],
   "source": [
    "def DEKHO(name, age, city,state):\n",
    "    print(\"Name: \", name)\n",
    "    print(\"Age: \",age)\n",
    "    print(\"City: \",city)\n",
    "    print(\"state: \",state)\n",
    "    \n",
    "DEKHO(\"amit\",33, state = \"UP\", city = \"Lucknow\")\n"
   ]
  },
  {
   "cell_type": "code",
   "execution_count": null,
   "metadata": {},
   "outputs": [],
   "source": [
    "def fun(name,age,*hobbies):\n",
    "    print(name)\n",
    "    print(age)\n",
    "    for i in hobbies:\n",
    "        print(i)\n",
    "\n",
    "fun(\"AMIT\",25,\"cycling\")\n",
    "fun(\"Shreya\",22,\"Wlaking\",\"Dancing\",\"Playing chess\")"
   ]
  },
  {
   "cell_type": "code",
   "execution_count": null,
   "metadata": {},
   "outputs": [],
   "source": [
    "def fun2(*a,**b):\n",
    "    print(\"Arguments: \",a)\n",
    "    print(\"Keyword Arguments:\",b)\n",
    "    \n",
    "fun2(25,29,\"india\",55,\"AMIT\",\"Shikha\",25.36, name = \"Alok\", Class = \"B.Tech\",city=\"Delhi\",marks = 75.5)"
   ]
  },
  {
   "cell_type": "code",
   "execution_count": null,
   "metadata": {},
   "outputs": [],
   "source": [
    "def pattern1(n):\n",
    "    for i in range (1,n+1):\n",
    "        for j in range(n-i):\n",
    "            print(\" \", end = \" \")\n",
    "        for k in range(2*i-1):\n",
    "            print(\"*\", end = \" \")\n",
    "        print()\n",
    "    "
   ]
  },
  {
   "cell_type": "code",
   "execution_count": null,
   "metadata": {},
   "outputs": [],
   "source": [
    "n = int(input(\"Enter number of lines\"))\n",
    "pattern1(n)"
   ]
  },
  {
   "cell_type": "code",
   "execution_count": null,
   "metadata": {},
   "outputs": [],
   "source": [
    "x = 50     #global\n",
    "\n",
    "def fun3():\n",
    "    global x\n",
    "    x = 20\n",
    "    print(x)\n",
    "    \n",
    "print(x)    \n",
    "fun3()\n",
    "print(x)"
   ]
  },
  {
   "cell_type": "code",
   "execution_count": null,
   "metadata": {},
   "outputs": [],
   "source": [
    "def sum(a,b):\n",
    "    return a+b\n",
    "\n",
    "result = sum(5,7)\n",
    "print(result)"
   ]
  },
  {
   "cell_type": "code",
   "execution_count": null,
   "metadata": {},
   "outputs": [],
   "source": [
    "import math\n",
    "\n",
    "f = math.factorial(5)\n",
    "print(f)"
   ]
  },
  {
   "cell_type": "code",
   "execution_count": null,
   "metadata": {},
   "outputs": [],
   "source": [
    "from math import factorial as fact\n",
    "\n",
    "f = fact(6)\n",
    "f\n"
   ]
  },
  {
   "cell_type": "code",
   "execution_count": null,
   "metadata": {},
   "outputs": [],
   "source": [
    "import sys\n",
    "sys.path"
   ]
  },
  {
   "cell_type": "code",
   "execution_count": null,
   "metadata": {},
   "outputs": [],
   "source": [
    "import workshop\n",
    "\n",
    "workshop.noida()"
   ]
  },
  {
   "cell_type": "code",
   "execution_count": null,
   "metadata": {},
   "outputs": [],
   "source": [
    "s = workshop.add(5,12)\n",
    "print(s)"
   ]
  },
  {
   "cell_type": "code",
   "execution_count": 4,
   "metadata": {},
   "outputs": [],
   "source": [
    "import workshop2"
   ]
  },
  {
   "cell_type": "code",
   "execution_count": null,
   "metadata": {},
   "outputs": [],
   "source": [
    "workshop2.india()"
   ]
  },
  {
   "cell_type": "code",
   "execution_count": null,
   "metadata": {},
   "outputs": [],
   "source": [
    "workshop2.noida()"
   ]
  },
  {
   "cell_type": "code",
   "execution_count": 5,
   "metadata": {},
   "outputs": [
    {
     "name": "stdout",
     "output_type": "stream",
     "text": [
      "Noida is in India\n"
     ]
    }
   ],
   "source": [
    "\n",
    "from workshop2 import noida\n",
    "\n",
    "workshop2.noida()"
   ]
  },
  {
   "cell_type": "code",
   "execution_count": 7,
   "metadata": {},
   "outputs": [
    {
     "ename": "NameError",
     "evalue": "name 'math' is not defined",
     "output_type": "error",
     "traceback": [
      "\u001b[1;31m---------------------------------------------------------------------------\u001b[0m",
      "\u001b[1;31mNameError\u001b[0m                                 Traceback (most recent call last)",
      "\u001b[1;32m<ipython-input-7-db0f7f120904>\u001b[0m in \u001b[0;36m<module>\u001b[1;34m\u001b[0m\n\u001b[0;32m      1\u001b[0m \u001b[1;32mfrom\u001b[0m \u001b[0mmath\u001b[0m \u001b[1;32mimport\u001b[0m \u001b[0mfactorial\u001b[0m\u001b[1;33m\u001b[0m\u001b[1;33m\u001b[0m\u001b[0m\n\u001b[1;32m----> 2\u001b[1;33m \u001b[0mprint\u001b[0m\u001b[1;33m(\u001b[0m\u001b[0mmath\u001b[0m\u001b[1;33m.\u001b[0m\u001b[0mfactorial\u001b[0m\u001b[1;33m(\u001b[0m\u001b[1;36m5\u001b[0m\u001b[1;33m)\u001b[0m\u001b[1;33m)\u001b[0m\u001b[1;33m\u001b[0m\u001b[1;33m\u001b[0m\u001b[0m\n\u001b[0m",
      "\u001b[1;31mNameError\u001b[0m: name 'math' is not defined"
     ]
    }
   ],
   "source": [
    "from math import factorial\n",
    "print(math.factorial(5))\n"
   ]
  },
  {
   "cell_type": "code",
   "execution_count": 8,
   "metadata": {},
   "outputs": [
    {
     "name": "stdout",
     "output_type": "stream",
     "text": [
      "Hello NIET\n"
     ]
    }
   ],
   "source": [
    "x = print\n",
    "\n",
    "x(\"Hello NIET\")"
   ]
  },
  {
   "cell_type": "code",
   "execution_count": 10,
   "metadata": {},
   "outputs": [
    {
     "data": {
      "text/plain": [
       "45"
      ]
     },
     "execution_count": 10,
     "metadata": {},
     "output_type": "execute_result"
    }
   ],
   "source": [
    "def add(a,b):\n",
    "    return a+b\n",
    "\n",
    "add(4,5)*5"
   ]
  },
  {
   "cell_type": "code",
   "execution_count": 15,
   "metadata": {},
   "outputs": [
    {
     "name": "stdout",
     "output_type": "stream",
     "text": [
      "***************\n",
      "answer is  40\n",
      "***************\n"
     ]
    }
   ],
   "source": [
    "def f1(fun):\n",
    "    def f2(x,y):\n",
    "        print(\"***************\")\n",
    "        fun(x,y)\n",
    "        print(\"***************\")\n",
    "    return f2\n",
    "    \n",
    "@f1\n",
    "def nieet(a,b):\n",
    "    x = a*b\n",
    "    print(\"answer is \",x)\n",
    "\n",
    "nieet(5,8)"
   ]
  },
  {
   "cell_type": "code",
   "execution_count": 2,
   "metadata": {},
   "outputs": [
    {
     "name": "stdout",
     "output_type": "stream",
     "text": [
      "Hello i am going to show result\n",
      "65\n",
      "now i am closing\n"
     ]
    }
   ],
   "source": [
    "def decor(fun):\n",
    "    def wrapper(*args,**kwargs):\n",
    "        print(\"Hello i am going to show result\") #open\n",
    "        fun(*args,**kwargs)\n",
    "        print(\"now i am closing\")    #close\n",
    "    return wrapper\n",
    "\n",
    "@decor\n",
    "def add(a,b,c=30):\n",
    "    print(a+b+c)\n",
    "    \n",
    "# @decor\n",
    "# def show():\n",
    "#     print(\"welcome\")\n",
    "\n",
    "# show()\n",
    "add(25,25,15)"
   ]
  },
  {
   "cell_type": "code",
   "execution_count": 9,
   "metadata": {},
   "outputs": [
    {
     "data": {
      "text/plain": [
       "21"
      ]
     },
     "execution_count": 9,
     "metadata": {},
     "output_type": "execute_result"
    }
   ],
   "source": [
    "a = [2,3,4,5,7]\n",
    "sum(a)"
   ]
  },
  {
   "cell_type": "code",
   "execution_count": 14,
   "metadata": {},
   "outputs": [
    {
     "data": {
      "text/plain": [
       "[2, 3, 4, 5, 5, 5, 5, 5, 7, 25]"
      ]
     },
     "execution_count": 14,
     "metadata": {},
     "output_type": "execute_result"
    }
   ],
   "source": [
    "a = [2,3,4,5,5,5,5,5,7]\n",
    "a.append(25)\n",
    "a"
   ]
  },
  {
   "cell_type": "code",
   "execution_count": 15,
   "metadata": {},
   "outputs": [
    {
     "data": {
      "text/plain": [
       "5"
      ]
     },
     "execution_count": 15,
     "metadata": {},
     "output_type": "execute_result"
    }
   ],
   "source": [
    "a.count(5)"
   ]
  },
  {
   "cell_type": "code",
   "execution_count": 18,
   "metadata": {},
   "outputs": [
    {
     "name": "stdout",
     "output_type": "stream",
     "text": [
      "how many elements: 7\n",
      " 2\n",
      " 3\n",
      " 6\n",
      " 9\n",
      " 8\n",
      " 7\n",
      " 4\n",
      "[2, 3, 6, 9, 8, 7, 4]\n",
      "19\n"
     ]
    }
   ],
   "source": [
    "x = []\n",
    "\n",
    "n = int(input(\"how many elements: \"))\n",
    "for i in range(n):\n",
    "    a = int(input(\" \"))\n",
    "    x.append(a)\n",
    "    \n",
    "sum = 0\n",
    "print(x)\n",
    "for i in range(n):\n",
    "    if x[i] %2 != 0:\n",
    "        sum = sum + x[i]\n",
    "        \n",
    "print(sum)\n"
   ]
  },
  {
   "cell_type": "code",
   "execution_count": 27,
   "metadata": {},
   "outputs": [
    {
     "data": {
      "text/plain": [
       "7"
      ]
     },
     "execution_count": 27,
     "metadata": {},
     "output_type": "execute_result"
    }
   ],
   "source": [
    "a = [2,4,6,4,7,3,8]\n",
    "y = a.pop(4)    # index of 7 is 4  pop(index)\n",
    "y"
   ]
  },
  {
   "cell_type": "code",
   "execution_count": 28,
   "metadata": {},
   "outputs": [],
   "source": [
    "z = a.remove(3)    #remove(obj/elem)\n",
    "z"
   ]
  },
  {
   "cell_type": "code",
   "execution_count": 31,
   "metadata": {},
   "outputs": [
    {
     "data": {
      "text/plain": [
       "[2, 4, 6, 4, 8, 18, 18, 18]"
      ]
     },
     "execution_count": 31,
     "metadata": {},
     "output_type": "execute_result"
    }
   ],
   "source": [
    "a.append(18)\n",
    "a"
   ]
  },
  {
   "cell_type": "code",
   "execution_count": 32,
   "metadata": {},
   "outputs": [
    {
     "data": {
      "text/plain": [
       "[2, 4, 15, 6, 4, 8, 18, 18, 18]"
      ]
     },
     "execution_count": 32,
     "metadata": {},
     "output_type": "execute_result"
    }
   ],
   "source": [
    "a.insert(2,15)\n",
    "a"
   ]
  },
  {
   "cell_type": "code",
   "execution_count": 33,
   "metadata": {},
   "outputs": [
    {
     "data": {
      "text/plain": [
       "[18, 18, 18, 8, 4, 6, 15, 4, 2]"
      ]
     },
     "execution_count": 33,
     "metadata": {},
     "output_type": "execute_result"
    }
   ],
   "source": [
    "a.reverse()\n",
    "a"
   ]
  },
  {
   "cell_type": "code",
   "execution_count": 34,
   "metadata": {},
   "outputs": [],
   "source": [
    "a.sort()"
   ]
  },
  {
   "cell_type": "code",
   "execution_count": 35,
   "metadata": {},
   "outputs": [
    {
     "data": {
      "text/plain": [
       "[2, 4, 4, 6, 8, 15, 18, 18, 18]"
      ]
     },
     "execution_count": 35,
     "metadata": {},
     "output_type": "execute_result"
    }
   ],
   "source": [
    "a"
   ]
  },
  {
   "cell_type": "code",
   "execution_count": 43,
   "metadata": {},
   "outputs": [
    {
     "name": "stdout",
     "output_type": "stream",
     "text": [
      "[5, 8, 9, 2, 1, 0, 6]\n",
      "[9, 8, 6, 5, 2, 1, 0]\n"
     ]
    }
   ],
   "source": [
    "a = [5,8,9,2,1,0,6]\n",
    "print(a)\n",
    "\n",
    "def shivam(a):           #Bubble sort\n",
    "    for i in range(len(a)):\n",
    "        for j in range(i,len(a)):\n",
    "            if a[i] < a[j]:\n",
    "                a[i],a[j] = a[j],a[i]\n",
    "    print(a)           \n",
    "shivam(a)"
   ]
  },
  {
   "cell_type": "code",
   "execution_count": 39,
   "metadata": {},
   "outputs": [
    {
     "name": "stdout",
     "output_type": "stream",
     "text": [
      "[3, 5, 78, 67, 89, 23, 12, 10, 3, 4]\n",
      "[3, 3, 4, 5, 10, 12, 23, 67, 78, 89]\n"
     ]
    }
   ],
   "source": [
    "b = [3,5,78,67,89,23,12,10,3,4]\n",
    "print(b)\n",
    "shivam(b)"
   ]
  },
  {
   "cell_type": "code",
   "execution_count": 42,
   "metadata": {},
   "outputs": [
    {
     "data": {
      "text/plain": [
       "[89, 78, 67, 23, 12, 10, 5, 4, 3, 3]"
      ]
     },
     "execution_count": 42,
     "metadata": {},
     "output_type": "execute_result"
    }
   ],
   "source": [
    "b = [3,5,78,67,89,23,12,10,3,4]\n",
    "b.sort(reverse =True)\n",
    "b"
   ]
  },
  {
   "cell_type": "code",
   "execution_count": 47,
   "metadata": {},
   "outputs": [
    {
     "data": {
      "text/plain": [
       "'HelloHelloHelloHello'"
      ]
     },
     "execution_count": 47,
     "metadata": {},
     "output_type": "execute_result"
    }
   ],
   "source": [
    "# concatenation\n",
    "\n",
    "a = [2,4,7,9]\n",
    "b = [3,5,1,8]\n",
    "\n",
    "x = \"Hello\"\n",
    "c = x*4\n",
    "c"
   ]
  },
  {
   "cell_type": "code",
   "execution_count": 50,
   "metadata": {},
   "outputs": [
    {
     "data": {
      "text/plain": [
       "[4, 16, 49, 81]"
      ]
     },
     "execution_count": 50,
     "metadata": {},
     "output_type": "execute_result"
    }
   ],
   "source": [
    "a = [2,4,7,9]\n",
    "b = [x**2 for x in a]    #list comprehension\n",
    "b"
   ]
  },
  {
   "cell_type": "code",
   "execution_count": 49,
   "metadata": {},
   "outputs": [
    {
     "data": {
      "text/plain": [
       "[8, 16, 28, 36]"
      ]
     },
     "execution_count": 49,
     "metadata": {},
     "output_type": "execute_result"
    }
   ],
   "source": [
    "a = [2,4,7,9]\n",
    "b = []\n",
    "for x in a:\n",
    "    b.append(4*x)\n",
    "b\n",
    "    "
   ]
  },
  {
   "cell_type": "code",
   "execution_count": 51,
   "metadata": {},
   "outputs": [
    {
     "data": {
      "text/plain": [
       "[]"
      ]
     },
     "execution_count": 51,
     "metadata": {},
     "output_type": "execute_result"
    }
   ],
   "source": [
    "b.clear()\n",
    "b"
   ]
  },
  {
   "cell_type": "code",
   "execution_count": 52,
   "metadata": {},
   "outputs": [
    {
     "data": {
      "text/plain": [
       "[22, 5, 8, 9]"
      ]
     },
     "execution_count": 52,
     "metadata": {},
     "output_type": "execute_result"
    }
   ],
   "source": [
    "c = [22,5,8,9]\n",
    "b = c.copy()\n",
    "b"
   ]
  },
  {
   "cell_type": "code",
   "execution_count": 56,
   "metadata": {},
   "outputs": [
    {
     "data": {
      "text/plain": [
       "3"
      ]
     },
     "execution_count": 56,
     "metadata": {},
     "output_type": "execute_result"
    }
   ],
   "source": [
    "t = c.index(9)\n",
    "t"
   ]
  },
  {
   "cell_type": "code",
   "execution_count": 62,
   "metadata": {},
   "outputs": [
    {
     "name": "stdout",
     "output_type": "stream",
     "text": [
      "6 7 5 9 10 "
     ]
    }
   ],
   "source": [
    "a = [5,6,4,8,9]\n",
    "for i in range(len(a)):\n",
    "    print(a[i]+1, end = \" \")"
   ]
  },
  {
   "cell_type": "code",
   "execution_count": 1,
   "metadata": {},
   "outputs": [
    {
     "name": "stdout",
     "output_type": "stream",
     "text": [
      "enter name and enter nil to end\n",
      " amit\n",
      "enter name and enter nil to end\n",
      " sumit\n",
      "enter name and enter nil to end\n",
      " mohit\n",
      "enter name and enter nil to end\n",
      " rekha\n",
      "enter name and enter nil to end\n",
      " nil\n",
      "['amit', 'sumit', 'mohit', 'rekha']\n"
     ]
    }
   ],
   "source": [
    "x = []\n",
    "while(1):\n",
    "    print(\"enter name and enter nil to end\")\n",
    "    a = input(\" \")\n",
    "    if a == \"nil\":\n",
    "        break\n",
    "    x.append(a)\n",
    "print(x)   "
   ]
  },
  {
   "cell_type": "code",
   "execution_count": 13,
   "metadata": {},
   "outputs": [
    {
     "data": {
      "text/plain": [
       "['Abhishek', 'Amit', 'Bhawna', 'Chetan', 'Uday']"
      ]
     },
     "execution_count": 13,
     "metadata": {},
     "output_type": "execute_result"
    }
   ],
   "source": [
    "a = [\"Amit\", \"Bhawna\", \"Abhishek\", \"Uday\",\"Chetan\"]\n",
    "a.sort()\n",
    "a"
   ]
  },
  {
   "cell_type": "code",
   "execution_count": 17,
   "metadata": {},
   "outputs": [
    {
     "data": {
      "text/plain": [
       "'Abhishek'"
      ]
     },
     "execution_count": 17,
     "metadata": {},
     "output_type": "execute_result"
    }
   ],
   "source": [
    "a = [\"Amit\", \"Bhawna\", \"Abhishek\", \"Uday\",\"Chetan\"]\n",
    "max(a, key = len)"
   ]
  },
  {
   "cell_type": "code",
   "execution_count": 21,
   "metadata": {},
   "outputs": [
    {
     "data": {
      "text/plain": [
       "'Hello'"
      ]
     },
     "execution_count": 21,
     "metadata": {},
     "output_type": "execute_result"
    }
   ],
   "source": [
    "st = \"Hello how are you?\"\n",
    "# x = st.split()\n",
    "# max(x, key = len)\n",
    "\n",
    "max(st.split(),key = len)"
   ]
  },
  {
   "cell_type": "code",
   "execution_count": 26,
   "metadata": {},
   "outputs": [
    {
     "name": "stdout",
     "output_type": "stream",
     "text": [
      " yellow\n",
      "['yellow']\n"
     ]
    }
   ],
   "source": [
    "colour = []\n",
    "x = input(\" \")\n",
    "if x not in colour:\n",
    "    colour.append(x)\n",
    "print(colour)"
   ]
  },
  {
   "cell_type": "code",
   "execution_count": 43,
   "metadata": {},
   "outputs": [
    {
     "data": {
      "text/plain": [
       "True"
      ]
     },
     "execution_count": 43,
     "metadata": {},
     "output_type": "execute_result"
    }
   ],
   "source": [
    "s = {2,4,6}\n",
    "t = {2,4}\n",
    "t.issubset(s)"
   ]
  },
  {
   "cell_type": "code",
   "execution_count": 5,
   "metadata": {},
   "outputs": [
    {
     "data": {
      "text/plain": [
       "{'c': 6, 'b': 4, 'a': 3}"
      ]
     },
     "execution_count": 5,
     "metadata": {},
     "output_type": "execute_result"
    }
   ],
   "source": [
    "d={'a':3,'b':4,'c':6}\n",
    "x=list(d.items())\n",
    "x.reverse()\n",
    "dict(x)"
   ]
  },
  {
   "cell_type": "code",
   "execution_count": 70,
   "metadata": {},
   "outputs": [
    {
     "data": {
      "text/plain": [
       "{3, 4, 5, 6, 7}"
      ]
     },
     "execution_count": 70,
     "metadata": {},
     "output_type": "execute_result"
    }
   ],
   "source": [
    "a = {3,5,7}\n",
    "b = {4,6,7}\n",
    "a.update(b)\n",
    "a\n",
    "\n"
   ]
  },
  {
   "cell_type": "code",
   "execution_count": 74,
   "metadata": {},
   "outputs": [
    {
     "data": {
      "text/plain": [
       "7"
      ]
     },
     "execution_count": 74,
     "metadata": {},
     "output_type": "execute_result"
    }
   ],
   "source": [
    "a = {\"f\":5, \"t\":7}\n",
    "a[\"t\"]"
   ]
  },
  {
   "cell_type": "code",
   "execution_count": 78,
   "metadata": {},
   "outputs": [
    {
     "name": "stdout",
     "output_type": "stream",
     "text": [
      "a \t 1\n",
      "e \t 3\n",
      "t \t 1\n",
      "r \t 1\n",
      "n \t 2\n",
      "w \t 1\n",
      "i \t 2\n",
      "  \t 3\n"
     ]
    }
   ],
   "source": [
    "st = \"we are in niet\"\n",
    "l = list(st)\n",
    "t = set(st)\n",
    "\n",
    "for i in t:\n",
    "    print(i, \"\\t\" ,l.count(i))"
   ]
  },
  {
   "cell_type": "code",
   "execution_count": 79,
   "metadata": {},
   "outputs": [
    {
     "name": "stdout",
     "output_type": "stream",
     "text": [
      "a     A      1\n",
      "b     B      2\n",
      "c     C      3\n"
     ]
    }
   ],
   "source": [
    "d1 = {\"a\":\"A\",\"b\":\"B\",\"c\":\"C\"}\n",
    "d2 = {\"A\":\"1\",\"B\":\"2\",\"C\":\"3\"}\n",
    "\n",
    "for i in d1.keys():\n",
    "    print(i, \"   \", d1[i],\"    \",d2[d1[i]])"
   ]
  },
  {
   "cell_type": "code",
   "execution_count": null,
   "metadata": {},
   "outputs": [],
   "source": []
  }
 ],
 "metadata": {
  "kernelspec": {
   "display_name": "Python 3",
   "language": "python",
   "name": "python3"
  },
  "language_info": {
   "codemirror_mode": {
    "name": "ipython",
    "version": 3
   },
   "file_extension": ".py",
   "mimetype": "text/x-python",
   "name": "python",
   "nbconvert_exporter": "python",
   "pygments_lexer": "ipython3",
   "version": "3.7.4"
  }
 },
 "nbformat": 4,
 "nbformat_minor": 2
}
