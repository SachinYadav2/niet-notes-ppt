{
 "cells": [
  {
   "cell_type": "code",
   "execution_count": null,
   "metadata": {},
   "outputs": [],
   "source": [
    "print('Hello HI')"
   ]
  },
  {
   "cell_type": "code",
   "execution_count": null,
   "metadata": {},
   "outputs": [],
   "source": []
  },
  {
   "cell_type": "code",
   "execution_count": null,
   "metadata": {},
   "outputs": [],
   "source": []
  },
  {
   "cell_type": "code",
   "execution_count": null,
   "metadata": {},
   "outputs": [],
   "source": []
  },
  {
   "cell_type": "code",
   "execution_count": null,
   "metadata": {},
   "outputs": [],
   "source": []
  },
  {
   "cell_type": "code",
   "execution_count": null,
   "metadata": {},
   "outputs": [],
   "source": []
  },
  {
   "cell_type": "code",
   "execution_count": null,
   "metadata": {},
   "outputs": [],
   "source": [
    "a = 5\n",
    "print(\"a = \",a)"
   ]
  },
  {
   "cell_type": "code",
   "execution_count": null,
   "metadata": {},
   "outputs": [],
   "source": [
    "a = 5\n",
    "b = 9\n",
    "c = 35.6\n",
    "print(\"a = %d, b = %d, c = %f\" %(a,b,c))  #%d or %f  format specifiers\n",
    "print(\"a = %d\\t\\t b = %d \\n c = %f\" %(a,b,c)) #\\t or\\n or \\r  Escape sequence characters"
   ]
  },
  {
   "cell_type": "code",
   "execution_count": null,
   "metadata": {},
   "outputs": [],
   "source": [
    "print(\"ABCDEFGH\\rxyz\")"
   ]
  },
  {
   "cell_type": "code",
   "execution_count": null,
   "metadata": {},
   "outputs": [],
   "source": [
    "print(\"123\\rABCDE\")"
   ]
  },
  {
   "cell_type": "code",
   "execution_count": null,
   "metadata": {},
   "outputs": [],
   "source": [
    "a = 5\n",
    "b = 9\n",
    "c = 35.69999\n",
    "print(\"a =%d, c= %d\"%(a,c))\n",
    "#print(f\"a = {b}, b ={b} ,c = {c}\" ) #%d or %f  format specifiers\n",
    "print(\"a = \",a,\"b = \",b)\n",
    "#print(\"a = {}, b = {}, c = {}\".format(a,b,c))\n",
    "#print(\"a = {0}, b = {1}, c = {2} x = {0}\".format(a,b,c))\n"
   ]
  },
  {
   "cell_type": "code",
   "execution_count": null,
   "metadata": {},
   "outputs": [],
   "source": [
    "x = 37.89\n",
    "y = int(x)\n",
    "print(y)"
   ]
  },
  {
   "cell_type": "code",
   "execution_count": null,
   "metadata": {},
   "outputs": [],
   "source": [
    "if a>b and a>c:\n",
    "    print('a is greatest')\n",
    "elif b>a and b>c:\n",
    "    print('b is greatest')\n",
    "else:\n",
    "    print(' c is greatest')"
   ]
  },
  {
   "cell_type": "code",
   "execution_count": null,
   "metadata": {},
   "outputs": [],
   "source": [
    "x = 9\n",
    "while(x>5):\n",
    "    print(\"hello\")\n",
    "    x = x-1\n",
    "\n"
   ]
  },
  {
   "cell_type": "code",
   "execution_count": null,
   "metadata": {},
   "outputs": [],
   "source": [
    "for i in range(1,10):\n",
    "    print(i, end = \"\")"
   ]
  },
  {
   "cell_type": "code",
   "execution_count": null,
   "metadata": {},
   "outputs": [],
   "source": [
    "for i in range(1,6):\n",
    "    for j in range(1,i+1):\n",
    "        print(\"*\", end = \" \")\n",
    "    print() # to change line"
   ]
  },
  {
   "cell_type": "code",
   "execution_count": null,
   "metadata": {},
   "outputs": [],
   "source": [
    "for i in range (1,6):\n",
    "    for j in range (1,5-i+1):\n",
    "        print(\" \", end = \"\")\n",
    "    for k in range (1, i+1):\n",
    "        print(\"*\", end = \"\")\n",
    "    print()"
   ]
  },
  {
   "cell_type": "code",
   "execution_count": null,
   "metadata": {},
   "outputs": [],
   "source": [
    "for i in range (1,6):\n",
    "    for j in range (1,5-i+1):\n",
    "        print(\" \", end = \"\")\n",
    "    for k in range (1, i+1):\n",
    "        print(\"*\", end = \"\")\n",
    "    print()"
   ]
  },
  {
   "cell_type": "code",
   "execution_count": null,
   "metadata": {},
   "outputs": [],
   "source": [
    "for i in range (1,6):\n",
    "    for j in range (1,5-i+1):\n",
    "        print(\" \", end = \" \")\n",
    "    for k in range (1, 2*i-1+1):\n",
    "        print(\"*\", end = \" \")\n",
    "    print()"
   ]
  },
  {
   "cell_type": "code",
   "execution_count": null,
   "metadata": {},
   "outputs": [],
   "source": [
    "for i in range (1,6):\n",
    "    for j in range (1,5-i+1):\n",
    "        print(\" \", end = \"\")\n",
    "    for k in range (1, 6):\n",
    "        print(\"*\", end = \"\")\n",
    "    print()"
   ]
  },
  {
   "cell_type": "code",
   "execution_count": null,
   "metadata": {},
   "outputs": [],
   "source": [
    "n = int (input(\"Enter no of lines\"))\n",
    "for i in range(1,n+1):\n",
    "    for j in range (1,i+1):\n",
    "        print(\"*\", end = \" \")\n",
    "    print()"
   ]
  },
  {
   "cell_type": "code",
   "execution_count": null,
   "metadata": {},
   "outputs": [],
   "source": [
    "def pattern (n):   #function definition\n",
    "    for i in range(1,n+1):\n",
    "        for j in range (1,i+1):\n",
    "            print(\"*\", end = \" \")\n",
    "        print()\n",
    "    "
   ]
  },
  {
   "cell_type": "code",
   "execution_count": null,
   "metadata": {},
   "outputs": [],
   "source": [
    "n = int(input(\"enter no of lines \"))\n",
    "pattern(n) #function call"
   ]
  },
  {
   "cell_type": "code",
   "execution_count": null,
   "metadata": {},
   "outputs": [],
   "source": [
    "def sum(a,b): #a,b,c are local variables to sum function\n",
    "    c = a+b\n",
    "    return c\n"
   ]
  },
  {
   "cell_type": "code",
   "execution_count": null,
   "metadata": {},
   "outputs": [],
   "source": [
    "x = 50        # x,y are local here\n",
    "y = 13\n",
    "print(\"Result =\", sum(x,y))\n"
   ]
  },
  {
   "cell_type": "code",
   "execution_count": null,
   "metadata": {},
   "outputs": [],
   "source": [
    "h = 5\n",
    "def mum():\n",
    "    h = 9\n",
    "    print(h)\n",
    "def tum():\n",
    "    print(h)"
   ]
  },
  {
   "cell_type": "code",
   "execution_count": null,
   "metadata": {},
   "outputs": [],
   "source": [
    "mum()\n",
    "print(h)"
   ]
  },
  {
   "cell_type": "code",
   "execution_count": null,
   "metadata": {},
   "outputs": [],
   "source": [
    "tum()"
   ]
  },
  {
   "cell_type": "code",
   "execution_count": null,
   "metadata": {},
   "outputs": [],
   "source": [
    "def fun (name, rollno, marks):\n",
    "    print(\"Name = \", name)\n",
    "    print(\"Roll Number = \",rollno)\n",
    "    print(\"Marks= \",marks)\n",
    "    "
   ]
  },
  {
   "cell_type": "code",
   "execution_count": null,
   "metadata": {},
   "outputs": [],
   "source": [
    "fun(\"amit\", 21, 75)  #Positional"
   ]
  },
  {
   "cell_type": "code",
   "execution_count": null,
   "metadata": {},
   "outputs": [],
   "source": [
    "fun(marks=59, rollno=25, name=\"Ram\") #Keyword Arguments"
   ]
  },
  {
   "cell_type": "code",
   "execution_count": null,
   "metadata": {},
   "outputs": [],
   "source": [
    "fun(\"Rekha\",marks=67,rollno=70)"
   ]
  },
  {
   "cell_type": "code",
   "execution_count": null,
   "metadata": {},
   "outputs": [],
   "source": [
    "def fun (name, marks, city = \"Noida\"):\n",
    "    print(\"Name = \", name)\n",
    "    print(\"Marks= \",marks)\n",
    "    print(\"city = \", city)"
   ]
  },
  {
   "cell_type": "code",
   "execution_count": null,
   "metadata": {},
   "outputs": [],
   "source": [
    "fun(\"Alok\", 82)"
   ]
  },
  {
   "cell_type": "code",
   "execution_count": null,
   "metadata": {},
   "outputs": [],
   "source": [
    "fun(\"Abhi\", 77, \"Meerut\")"
   ]
  },
  {
   "cell_type": "code",
   "execution_count": null,
   "metadata": {},
   "outputs": [],
   "source": [
    "def fun (name, marks, *hobbies):\n",
    "    print(\"Name = \", name)\n",
    "    print(\"Marks= %d\"%(marks))\n",
    "    #print(\"Hobbies = \", end = \" \")\n",
    "    for i in hobbies:\n",
    "        print(i, end = \",\")"
   ]
  },
  {
   "cell_type": "code",
   "execution_count": null,
   "metadata": {},
   "outputs": [],
   "source": [
    "fun(\"Ashish\", 82.75, \"Reading\", \"Running\",\"xyx\")"
   ]
  },
  {
   "cell_type": "code",
   "execution_count": null,
   "metadata": {},
   "outputs": [],
   "source": [
    "#Modules\n",
    "import sys\n",
    "print(sys.path)"
   ]
  },
  {
   "cell_type": "code",
   "execution_count": null,
   "metadata": {},
   "outputs": [],
   "source": [
    "from math import sqrt\n",
    "x = sqrt(49)\n",
    "print(x)"
   ]
  },
  {
   "cell_type": "code",
   "execution_count": null,
   "metadata": {},
   "outputs": [],
   "source": [
    "import math\n",
    "print(math.pi)"
   ]
  },
  {
   "cell_type": "code",
   "execution_count": null,
   "metadata": {},
   "outputs": [],
   "source": [
    "from module import function\n",
    "function()\n",
    "or \n",
    "\n",
    "import module\n",
    "module.function()"
   ]
  },
  {
   "cell_type": "code",
   "execution_count": null,
   "metadata": {},
   "outputs": [],
   "source": [
    "import aimlstudents as ai"
   ]
  },
  {
   "cell_type": "code",
   "execution_count": null,
   "metadata": {},
   "outputs": [],
   "source": [
    "ai.samant()"
   ]
  },
  {
   "cell_type": "code",
   "execution_count": null,
   "metadata": {},
   "outputs": [],
   "source": [
    "ai.yogender()"
   ]
  },
  {
   "cell_type": "code",
   "execution_count": null,
   "metadata": {},
   "outputs": [],
   "source": [
    "from aimlstudents import samant"
   ]
  },
  {
   "cell_type": "code",
   "execution_count": null,
   "metadata": {},
   "outputs": [],
   "source": [
    "samant()"
   ]
  },
  {
   "cell_type": "code",
   "execution_count": null,
   "metadata": {},
   "outputs": [],
   "source": [
    "from aimlstudents import add"
   ]
  },
  {
   "cell_type": "code",
   "execution_count": null,
   "metadata": {},
   "outputs": [],
   "source": [
    "x = add(40,20)\n",
    "print(x)"
   ]
  },
  {
   "cell_type": "code",
   "execution_count": null,
   "metadata": {},
   "outputs": [],
   "source": [
    "from aimlstudents import mul"
   ]
  },
  {
   "cell_type": "code",
   "execution_count": null,
   "metadata": {},
   "outputs": [],
   "source": [
    "y = mul(50,20)\n",
    "print(y)"
   ]
  },
  {
   "cell_type": "code",
   "execution_count": null,
   "metadata": {},
   "outputs": [],
   "source": [
    "import aimlstudents"
   ]
  },
  {
   "cell_type": "code",
   "execution_count": null,
   "metadata": {},
   "outputs": [],
   "source": [
    "from aimlstudents import add,mul"
   ]
  },
  {
   "cell_type": "code",
   "execution_count": null,
   "metadata": {},
   "outputs": [],
   "source": [
    "from aimlstudents import *"
   ]
  },
  {
   "cell_type": "code",
   "execution_count": null,
   "metadata": {},
   "outputs": [],
   "source": [
    "x = 20\n",
    "type(x)"
   ]
  },
  {
   "cell_type": "code",
   "execution_count": null,
   "metadata": {},
   "outputs": [],
   "source": [
    "x = \"Hello\"\n",
    "type(x)"
   ]
  },
  {
   "cell_type": "code",
   "execution_count": null,
   "metadata": {},
   "outputs": [],
   "source": [
    "class Myclass:\n",
    "    x = 7\n",
    "    \n",
    "\n",
    "obj = Myclass()\n",
    "print(obj.x)"
   ]
  },
  {
   "cell_type": "code",
   "execution_count": null,
   "metadata": {},
   "outputs": [],
   "source": [
    "type(obj)"
   ]
  },
  {
   "cell_type": "code",
   "execution_count": null,
   "metadata": {},
   "outputs": [],
   "source": [
    "obj.type()"
   ]
  },
  {
   "cell_type": "code",
   "execution_count": null,
   "metadata": {},
   "outputs": [],
   "source": [
    "a = [2,5,9,1,4,6]\n",
    "a.sort()"
   ]
  },
  {
   "cell_type": "code",
   "execution_count": null,
   "metadata": {},
   "outputs": [],
   "source": [
    "print(a)"
   ]
  },
  {
   "cell_type": "code",
   "execution_count": null,
   "metadata": {},
   "outputs": [],
   "source": [
    "type(aimlstudents)"
   ]
  },
  {
   "cell_type": "code",
   "execution_count": null,
   "metadata": {},
   "outputs": [],
   "source": [
    "type(aimlstudents.add)"
   ]
  },
  {
   "cell_type": "code",
   "execution_count": null,
   "metadata": {},
   "outputs": [],
   "source": [
    "type(aimlstudents.add(3,5))"
   ]
  },
  {
   "cell_type": "code",
   "execution_count": null,
   "metadata": {},
   "outputs": [],
   "source": [
    "type(aimlstudents.samant)"
   ]
  },
  {
   "cell_type": "code",
   "execution_count": null,
   "metadata": {},
   "outputs": [],
   "source": [
    "type(aimlstudents.samant())"
   ]
  },
  {
   "cell_type": "code",
   "execution_count": null,
   "metadata": {},
   "outputs": [],
   "source": [
    " class Myclass:\n",
    "        x = 5               # Member of the class"
   ]
  },
  {
   "cell_type": "code",
   "execution_count": null,
   "metadata": {},
   "outputs": [],
   "source": [
    "obj = Myclass()\n"
   ]
  },
  {
   "cell_type": "code",
   "execution_count": null,
   "metadata": {},
   "outputs": [],
   "source": [
    "print(obj.x)"
   ]
  },
  {
   "cell_type": "code",
   "execution_count": null,
   "metadata": {},
   "outputs": [],
   "source": [
    "class Anyclass:\n",
    "    x = 8\n",
    "    y = 23\n"
   ]
  },
  {
   "cell_type": "code",
   "execution_count": null,
   "metadata": {},
   "outputs": [],
   "source": [
    "a = Anyclass()\n",
    "print(a.x)\n",
    "print(a.y)"
   ]
  },
  {
   "cell_type": "code",
   "execution_count": null,
   "metadata": {},
   "outputs": [],
   "source": [
    "b = Anyclass()\n",
    "\n",
    "print(b.x)\n",
    "print(b.y)"
   ]
  },
  {
   "cell_type": "code",
   "execution_count": null,
   "metadata": {},
   "outputs": [],
   "source": [
    "class NIET:\n",
    "    x = 9\n",
    "    def display(monkey):\n",
    "        print(\"Hello\")\n",
    "    "
   ]
  },
  {
   "cell_type": "code",
   "execution_count": null,
   "metadata": {},
   "outputs": [],
   "source": [
    "obj  = NIET()"
   ]
  },
  {
   "cell_type": "code",
   "execution_count": null,
   "metadata": {},
   "outputs": [],
   "source": [
    "print(obj.x)"
   ]
  },
  {
   "cell_type": "code",
   "execution_count": null,
   "metadata": {},
   "outputs": [],
   "source": [
    "obj.display()"
   ]
  },
  {
   "cell_type": "code",
   "execution_count": null,
   "metadata": {},
   "outputs": [],
   "source": [
    "class NOIDA:\n",
    "    x = 9\n",
    "    def display(self):\n",
    "        print(\"Hello\")"
   ]
  },
  {
   "cell_type": "code",
   "execution_count": null,
   "metadata": {},
   "outputs": [],
   "source": [
    "cat = NOIDA()"
   ]
  },
  {
   "cell_type": "code",
   "execution_count": null,
   "metadata": {},
   "outputs": [],
   "source": [
    "cat.display()"
   ]
  },
  {
   "cell_type": "code",
   "execution_count": null,
   "metadata": {},
   "outputs": [],
   "source": [
    "class student:\n",
    "    def __init__(self,rollno,name):\n",
    "        self.rollno = rollno\n",
    "        self.name = name\n",
    "    def sowo(self):\n",
    "        print(self.rollno)\n",
    "        print(self.name)\n",
    "    "
   ]
  },
  {
   "cell_type": "code",
   "execution_count": null,
   "metadata": {},
   "outputs": [],
   "source": [
    "s1 = student(10,\"Abhishek\")\n",
    "s2 = student(24,\"Rahul\")\n",
    "s3 = student(14,\"Garima\")"
   ]
  },
  {
   "cell_type": "code",
   "execution_count": null,
   "metadata": {},
   "outputs": [],
   "source": [
    "s1.sowo()"
   ]
  },
  {
   "cell_type": "code",
   "execution_count": null,
   "metadata": {},
   "outputs": [],
   "source": [
    "s2.show()"
   ]
  },
  {
   "cell_type": "code",
   "execution_count": null,
   "metadata": {},
   "outputs": [],
   "source": [
    "s3.show()"
   ]
  },
  {
   "cell_type": "markdown",
   "metadata": {},
   "source": [
    "class variable and instance variable"
   ]
  },
  {
   "cell_type": "code",
   "execution_count": null,
   "metadata": {},
   "outputs": [],
   "source": [
    "class student:\n",
    "    college = \"NIET\"  #Class variable\n",
    "    def __init__(self,name,rollno):\n",
    "        self.name = name      #instance variable\n",
    "        self.rollno = rollno   #instance variable"
   ]
  },
  {
   "cell_type": "code",
   "execution_count": null,
   "metadata": {},
   "outputs": [],
   "source": [
    "s1 = student(\"Alok\", 12)"
   ]
  },
  {
   "cell_type": "code",
   "execution_count": null,
   "metadata": {},
   "outputs": [],
   "source": [
    "print(s1.college)\n",
    "print(s1.name)\n",
    "print(s1.rollno)"
   ]
  },
  {
   "cell_type": "code",
   "execution_count": null,
   "metadata": {},
   "outputs": [],
   "source": [
    "s2 = student(\"mahima\", 32)"
   ]
  },
  {
   "cell_type": "code",
   "execution_count": null,
   "metadata": {},
   "outputs": [],
   "source": [
    "print(s2.college)\n",
    "print(s2.name)\n",
    "print(s2.rollno)"
   ]
  },
  {
   "cell_type": "code",
   "execution_count": null,
   "metadata": {},
   "outputs": [],
   "source": [
    "print(student.college)\n",
    "print(s1.college)"
   ]
  },
  {
   "cell_type": "code",
   "execution_count": null,
   "metadata": {},
   "outputs": [],
   "source": [
    "student.college = \"Niet\""
   ]
  },
  {
   "cell_type": "code",
   "execution_count": null,
   "metadata": {},
   "outputs": [],
   "source": [
    "print(s2.college)"
   ]
  },
  {
   "cell_type": "code",
   "execution_count": null,
   "metadata": {},
   "outputs": [],
   "source": [
    "s2.rollno = 33"
   ]
  },
  {
   "cell_type": "code",
   "execution_count": null,
   "metadata": {},
   "outputs": [],
   "source": [
    "print(s2.rollno)"
   ]
  },
  {
   "cell_type": "code",
   "execution_count": null,
   "metadata": {},
   "outputs": [],
   "source": [
    "print(s1.rollno)"
   ]
  },
  {
   "cell_type": "code",
   "execution_count": null,
   "metadata": {},
   "outputs": [],
   "source": [
    "s1.college = \"Accurate\""
   ]
  },
  {
   "cell_type": "code",
   "execution_count": null,
   "metadata": {},
   "outputs": [],
   "source": [
    "print(s2.college)"
   ]
  },
  {
   "cell_type": "code",
   "execution_count": null,
   "metadata": {},
   "outputs": [],
   "source": [
    "print(s1.college)"
   ]
  },
  {
   "cell_type": "code",
   "execution_count": null,
   "metadata": {},
   "outputs": [],
   "source": [
    "class student:\n",
    "    NO_of_students = 0\n",
    "    ERPid = 1000\n",
    "    college = \"NIET\"  #Class variable\n",
    "    def __init__(self,name):\n",
    "        student.NO_of_students += 1\n",
    "        print(\"one object is created: NOw total student =\", student.NO_of_students)\n",
    "        self.name = name      #instance variable\n",
    "        student.ERPid += 1\n",
    "        self.erpid = student.ERPid\n",
    "    def show(self):\n",
    "        print(\"Name: \",self.name)\n",
    "        print(\"ERPID: \", self.erpid)\n",
    "    def __del__(self):\n",
    "        student.NO_of_students -=1\n",
    "        print(\"One object is deleted, Now no of students = \",student.NO_of_students)"
   ]
  },
  {
   "cell_type": "code",
   "execution_count": null,
   "metadata": {},
   "outputs": [],
   "source": [
    "s1 = student(\"Mohit\")\n",
    "s1.show()\n",
    "s2 = student(\"Sumit\")\n",
    "s2.show()\n",
    "s3 = student(\"Akanksha\")\n",
    "s3.show()"
   ]
  },
  {
   "cell_type": "code",
   "execution_count": null,
   "metadata": {},
   "outputs": [],
   "source": [
    "s1 = student(\"Mahima\")"
   ]
  },
  {
   "cell_type": "code",
   "execution_count": null,
   "metadata": {},
   "outputs": [],
   "source": [
    "class employee:\n",
    "    def __init__(self,naam,sal):\n",
    "        self.name = naam         #name is public data member\n",
    "        self.__salary = sal      #__salary is Private data member\n",
    "        self.gradepoint = 0\n",
    "    def display(self):\n",
    "        print(\"Name: \", self.name)\n",
    "        print(\"Salary: \",self.__salary)\n",
    "    def __appraisal(self,point):    #__personal_info is private method\n",
    "        self.gradepoint += point "
   ]
  },
  {
   "cell_type": "code",
   "execution_count": null,
   "metadata": {},
   "outputs": [],
   "source": [
    "e1 = employee(\"ABHIJEET\",35000)\n",
    "e1.display()"
   ]
  },
  {
   "cell_type": "code",
   "execution_count": null,
   "metadata": {},
   "outputs": [],
   "source": [
    "print(e1.name)\n",
    "print(e1.__salary)"
   ]
  },
  {
   "cell_type": "code",
   "execution_count": null,
   "metadata": {},
   "outputs": [],
   "source": [
    "e1.__personal_info()"
   ]
  },
  {
   "cell_type": "code",
   "execution_count": null,
   "metadata": {},
   "outputs": [],
   "source": [
    "e1._employee__appraisal(6)      #objName._className.__privateMethodName"
   ]
  },
  {
   "cell_type": "code",
   "execution_count": null,
   "metadata": {},
   "outputs": [],
   "source": [
    "e1.gradepoint"
   ]
  },
  {
   "cell_type": "code",
   "execution_count": null,
   "metadata": {},
   "outputs": [],
   "source": [
    "e1._employee__appraisal(8)\n",
    "e1.gradepoint"
   ]
  },
  {
   "cell_type": "code",
   "execution_count": null,
   "metadata": {},
   "outputs": [],
   "source": [
    "import platform\n",
    "print(platform.python_implementation())\n"
   ]
  },
  {
   "cell_type": "code",
   "execution_count": null,
   "metadata": {},
   "outputs": [],
   "source": [
    "def area(l,b):\n",
    "    return l*b\n",
    "\n",
    "volume = area(3,4) * 5\n",
    "print(volume)"
   ]
  },
  {
   "cell_type": "markdown",
   "metadata": {},
   "source": [
    "# function can be assigned to a variable"
   ]
  },
  {
   "cell_type": "code",
   "execution_count": null,
   "metadata": {},
   "outputs": [],
   "source": [
    "var = print"
   ]
  },
  {
   "cell_type": "code",
   "execution_count": null,
   "metadata": {},
   "outputs": [],
   "source": [
    "var(\"Hello\")"
   ]
  },
  {
   "cell_type": "code",
   "execution_count": null,
   "metadata": {},
   "outputs": [],
   "source": [
    "var(5+7)"
   ]
  },
  {
   "cell_type": "code",
   "execution_count": null,
   "metadata": {},
   "outputs": [],
   "source": [
    "type(var)"
   ]
  },
  {
   "cell_type": "code",
   "execution_count": null,
   "metadata": {},
   "outputs": [],
   "source": [
    "def sum(x,y):\n",
    "    print (x+y)\n",
    "    \n",
    "tubelight = sum\n",
    "\n",
    "tubelight(5,12)"
   ]
  },
  {
   "cell_type": "markdown",
   "metadata": {},
   "source": [
    "# Function can be passed as an argument"
   ]
  },
  {
   "cell_type": "code",
   "execution_count": null,
   "metadata": {},
   "outputs": [],
   "source": [
    "def fun1(fun):\n",
    "    fun()\n",
    "    \n",
    "def fun2():\n",
    "    print(\"Hello NIET\")\n",
    "\n",
    "fun1(fun2)"
   ]
  },
  {
   "cell_type": "markdown",
   "metadata": {},
   "source": [
    "# Function can be returned from another function"
   ]
  },
  {
   "cell_type": "code",
   "execution_count": null,
   "metadata": {},
   "outputs": [],
   "source": [
    "def AIML():\n",
    "    print(\"we are in AIML Branch\")\n",
    "def DS():\n",
    "    print(\"We are in Data Science\")\n",
    "def unknown():\n",
    "    print(\"Pata Nahi\")\n",
    "def fun(val):\n",
    "    if val ==1:\n",
    "        return AIML()\n",
    "    if val ==2:\n",
    "        return DS()\n",
    "    else:\n",
    "        return unknown()\n",
    "        "
   ]
  },
  {
   "cell_type": "code",
   "execution_count": null,
   "metadata": {},
   "outputs": [],
   "source": [
    "fun(2)"
   ]
  },
  {
   "cell_type": "code",
   "execution_count": null,
   "metadata": {},
   "outputs": [],
   "source": [
    "fun(1)"
   ]
  },
  {
   "cell_type": "code",
   "execution_count": null,
   "metadata": {},
   "outputs": [],
   "source": [
    "fun(5)"
   ]
  },
  {
   "cell_type": "code",
   "execution_count": null,
   "metadata": {},
   "outputs": [],
   "source": [
    "def sum(x,y):\n",
    "    return x+y\n",
    "\n",
    "type(sum)\n",
    "# type(sum(5,6))"
   ]
  },
  {
   "cell_type": "code",
   "execution_count": null,
   "metadata": {},
   "outputs": [],
   "source": [
    "def add1(x):\n",
    "    def add2(y):\n",
    "        return x+y\n",
    "    return add2\n",
    "\n",
    "sum = add1(10)       # here the value of sum is add2, as add1 returns add2\n",
    "result = sum(20)\n",
    "print(\"Result = \",result)"
   ]
  },
  {
   "cell_type": "code",
   "execution_count": null,
   "metadata": {},
   "outputs": [],
   "source": [
    "sum = add1(10)\n",
    "result = sum(20)\n",
    "print(result)"
   ]
  },
  {
   "cell_type": "code",
   "execution_count": null,
   "metadata": {},
   "outputs": [],
   "source": [
    "y = add1(30)\n",
    "print(y)\n",
    "d = y(50)      #y is add2\n",
    "print(d)"
   ]
  },
  {
   "cell_type": "code",
   "execution_count": null,
   "metadata": {},
   "outputs": [],
   "source": [
    "def fun1(fun):\n",
    "    def fun2():\n",
    "        print(\"********\")\n",
    "        fun()\n",
    "        print(\"********\")\n",
    "    return fun2\n",
    "\n",
    "@fun1                       #decorator\n",
    "def display():\n",
    "    print(\"Hello NIET\")\n",
    "    \n",
    "    \n",
    "display()"
   ]
  },
  {
   "cell_type": "code",
   "execution_count": null,
   "metadata": {},
   "outputs": [],
   "source": [
    "display()"
   ]
  },
  {
   "cell_type": "code",
   "execution_count": null,
   "metadata": {},
   "outputs": [],
   "source": [
    "show()"
   ]
  },
  {
   "cell_type": "code",
   "execution_count": null,
   "metadata": {},
   "outputs": [],
   "source": [
    "add()"
   ]
  },
  {
   "cell_type": "code",
   "execution_count": null,
   "metadata": {},
   "outputs": [],
   "source": [
    "def decor(fun):\n",
    "    def wrapper():\n",
    "        print(\"********\")\n",
    "        fun()\n",
    "        print(\"********\")\n",
    "    return wrapper\n",
    "\n",
    "@decor\n",
    "def display():\n",
    "    print(\"Hello AIML\")\n",
    "    \n",
    "@decor\n",
    "def show(x):\n",
    "    print(\"Hello \",x)\n",
    "@decor    \n",
    "def add():\n",
    "    x=5\n",
    "    y=7\n",
    "    print(\"sum =\",x+y)"
   ]
  },
  {
   "cell_type": "code",
   "execution_count": null,
   "metadata": {},
   "outputs": [],
   "source": [
    "display()"
   ]
  },
  {
   "cell_type": "code",
   "execution_count": null,
   "metadata": {},
   "outputs": [],
   "source": [
    "def fun(*x):\n",
    "    print(\"Arguments:\",x)\n",
    "fun(\"Amit\",\"Noida\",25,36.5,\"India\")\n",
    "fun(25,\"Reema\")"
   ]
  },
  {
   "cell_type": "code",
   "execution_count": null,
   "metadata": {},
   "outputs": [],
   "source": [
    "def fun2(*x, **y):\n",
    "    print(\"Arguments:\",x)\n",
    "    print(\"Keyword Arguments: \",y)\n",
    "    \n"
   ]
  },
  {
   "cell_type": "code",
   "execution_count": null,
   "metadata": {},
   "outputs": [],
   "source": [
    "fun2(\"Alok\",89,\"Sneha\",67,25.25,name = \"Mohan\",Class = \"AIML\", City = \"Noida\")"
   ]
  },
  {
   "cell_type": "code",
   "execution_count": null,
   "metadata": {},
   "outputs": [],
   "source": [
    "def fun3(*args, **kwargs):\n",
    "    print(\"Arguments:\",args)\n",
    "    print(\"Keyword Arguments: \",kwargs)\n",
    "    \n",
    "fun3(4,5,6,\"Hello\",52.6,Name = \"Alok\", College = \"NIET\")\n",
    "    "
   ]
  },
  {
   "cell_type": "code",
   "execution_count": null,
   "metadata": {},
   "outputs": [],
   "source": [
    "fun3()"
   ]
  },
  {
   "cell_type": "code",
   "execution_count": null,
   "metadata": {},
   "outputs": [],
   "source": [
    "fun3(2,5)"
   ]
  },
  {
   "cell_type": "code",
   "execution_count": null,
   "metadata": {},
   "outputs": [],
   "source": [
    "fun3(name = \"Deepak\")"
   ]
  },
  {
   "cell_type": "code",
   "execution_count": null,
   "metadata": {},
   "outputs": [],
   "source": [
    "def decor(fun):\n",
    "    def wrapper(*args, **kwargs):\n",
    "        print(\"Starting function execution\")\n",
    "        fun(*args, **kwargs)\n",
    "        print(\"Ending function execution\")\n",
    "    return wrapper\n",
    "\n",
    "# @decor\n",
    "# def display():\n",
    "#     print(\"Hello NIET\")\n",
    "    \n",
    "# @decor\n",
    "# def show(x):\n",
    "#     print(\"Hello \",x)\n",
    "# @decor    \n",
    "# def add(x,y,z):\n",
    "#     print(\"Sum = \",x+y+z)\n",
    "@decor    \n",
    "def area(r):\n",
    "    print(\"Area = \",3.14*r*r)\n",
    "    \n",
    "\n",
    "radius = float(input(\"Enter radius of the circle: \"))\n",
    "area(radius)\n",
    "    \n"
   ]
  },
  {
   "cell_type": "code",
   "execution_count": null,
   "metadata": {},
   "outputs": [],
   "source": [
    "display()"
   ]
  },
  {
   "cell_type": "code",
   "execution_count": null,
   "metadata": {},
   "outputs": [],
   "source": [
    "add(5,6,9)"
   ]
  },
  {
   "cell_type": "code",
   "execution_count": null,
   "metadata": {},
   "outputs": [],
   "source": [
    "area(5)"
   ]
  },
  {
   "cell_type": "code",
   "execution_count": null,
   "metadata": {},
   "outputs": [],
   "source": [
    "area(r=4)"
   ]
  },
  {
   "cell_type": "code",
   "execution_count": null,
   "metadata": {},
   "outputs": [],
   "source": [
    "class trial:     \n",
    "    x = 10           #class or static variable\n",
    "    \n",
    "\n",
    "a = trial()\n",
    "print(a.x)\n",
    "a.x = a.x *2\n",
    "print(a.x)\n",
    "\n",
    "b = trial()\n",
    "b.x = b.x**2\n",
    "print(b.x)\n",
    "    "
   ]
  },
  {
   "cell_type": "code",
   "execution_count": null,
   "metadata": {},
   "outputs": [],
   "source": [
    "class MyClass:\n",
    "    def instancemethod(self):\n",
    "        return 'instance method called', self\n",
    "    \n",
    "    @classmethod\n",
    "    def classmethod(cls):\n",
    "        return 'class method called', cls\n",
    "    \n",
    "    @staticmethod\n",
    "    def staticmethod():\n",
    "        return 'static method called'"
   ]
  },
  {
   "cell_type": "code",
   "execution_count": null,
   "metadata": {},
   "outputs": [],
   "source": [
    "class student:\n",
    "    university = \"AKTU\"                #class variable or static variable\n",
    "    def __init__(self):\n",
    "        self.name = \" \"           #y and z are instance variables\n",
    "        self.marks = 0\n",
    "    def setvalue(self):\n",
    "        self.name = input(\"Enter Name: \")\n",
    "        self.marks = int(input(\"Enter Marks: \"))\n",
    "    \n",
    "    def display(self):\n",
    "        print(\"Name: \",self.name)\n",
    "        print(\"Marks: \",self.marks)\n",
    "        print(\"University: \",self.university)\n",
    "    \n",
    "#     def changetheuniv(self):\n",
    "#         self.university = \"APJ Abdul Kalam Technichal University\"\n",
    "    \n",
    "    @classmethod\n",
    "    def changeUniversity(cls):\n",
    "        cls.university = \"APJ Abdul Kalam Technichal University\"\n",
    "        \n",
    "        \n",
    "    @staticmethod\n",
    "    def isHonours(marks):\n",
    "        if marks>= 75:\n",
    "            return True\n",
    "        else:\n",
    "            return False\n",
    "    \n",
    "        "
   ]
  },
  {
   "cell_type": "code",
   "execution_count": null,
   "metadata": {},
   "outputs": [],
   "source": [
    "# s1 = student()\n",
    "# s1.display()\n",
    "# s1.setvalue()\n",
    "# s1.display()\n",
    "# student.changeUniversity()\n",
    "# # s1.display()\n",
    "# s2 = student()\n",
    "# s2.display()\n",
    "if (s2.isHonours(s1.marks)):\n",
    "    print(\"Yes Honours\")"
   ]
  },
  {
   "cell_type": "markdown",
   "metadata": {},
   "source": [
    "# Write a program that uses class to store the name and marks of students . Use list to store the marks in three subjects."
   ]
  },
  {
   "cell_type": "code",
   "execution_count": null,
   "metadata": {},
   "outputs": [],
   "source": [
    "class student:\n",
    "    \n",
    "    def __init__(self):\n",
    "        self.name = \"\"\n",
    "        self.marks = []\n",
    "        \n",
    "    def getdata(self):\n",
    "        self.name = input(\"Enter Name: \")\n",
    "        for i in range(3):\n",
    "            x = int(input(\"Enter Marks: \"))\n",
    "            self.marks.append(x)\n",
    "    \n",
    "    def display(self):\n",
    "        print(\"Name: \",self.name)\n",
    "        print(\"Marks: \",self.marks)"
   ]
  },
  {
   "cell_type": "code",
   "execution_count": null,
   "metadata": {},
   "outputs": [],
   "source": [
    "s1 = student()"
   ]
  },
  {
   "cell_type": "code",
   "execution_count": null,
   "metadata": {},
   "outputs": [],
   "source": []
  },
  {
   "cell_type": "code",
   "execution_count": null,
   "metadata": {},
   "outputs": [],
   "source": []
  },
  {
   "cell_type": "code",
   "execution_count": null,
   "metadata": {},
   "outputs": [],
   "source": [
    "s1 = student()\n",
    "s2 = student()\n",
    "s1.getdata()\n",
    "s2.getdata()\n",
    "\n"
   ]
  },
  {
   "cell_type": "code",
   "execution_count": null,
   "metadata": {},
   "outputs": [],
   "source": [
    "s2.display()"
   ]
  },
  {
   "cell_type": "code",
   "execution_count": null,
   "metadata": {},
   "outputs": [],
   "source": [
    "a = [2,6]\n",
    "print(a)\n",
    "a.append(8)\n",
    "print(a)\n",
    "a.append(96)\n",
    "a.append(40)\n",
    "print(a)"
   ]
  },
  {
   "cell_type": "code",
   "execution_count": null,
   "metadata": {},
   "outputs": [],
   "source": [
    "s1.display()"
   ]
  },
  {
   "cell_type": "code",
   "execution_count": null,
   "metadata": {},
   "outputs": [],
   "source": [
    "class student:\n",
    "    university = \"AKTU\"\n",
    "    def __init__(self):\n",
    "        self.name = \"\"\n",
    "        self.marks = []\n",
    "        \n",
    "    def getdata(self):\n",
    "        self.name = input(\"Enter Name: \")\n",
    "        for i in range(3):\n",
    "            x = int(input(\"Enter Marks: \"))\n",
    "            self.marks.append(x)\n",
    "    \n",
    "    def display(self):\n",
    "        print(\"Name: \",self.name)\n",
    "        print(\"Marks: \",self.marks)"
   ]
  },
  {
   "cell_type": "code",
   "execution_count": null,
   "metadata": {},
   "outputs": [],
   "source": [
    "s1 = student()\n"
   ]
  },
  {
   "cell_type": "code",
   "execution_count": null,
   "metadata": {},
   "outputs": [],
   "source": [
    "hasattr(s1,'name')"
   ]
  },
  {
   "cell_type": "code",
   "execution_count": null,
   "metadata": {},
   "outputs": [],
   "source": [
    "hasattr(s1,'university')"
   ]
  },
  {
   "cell_type": "code",
   "execution_count": null,
   "metadata": {},
   "outputs": [],
   "source": [
    "hasattr(student,'name')"
   ]
  },
  {
   "cell_type": "code",
   "execution_count": null,
   "metadata": {},
   "outputs": [],
   "source": [
    "hasattr(student,'university')"
   ]
  },
  {
   "cell_type": "code",
   "execution_count": null,
   "metadata": {},
   "outputs": [],
   "source": [
    "x = getattr(student,'university')\n",
    "print(x)"
   ]
  },
  {
   "cell_type": "code",
   "execution_count": null,
   "metadata": {},
   "outputs": [],
   "source": [
    "x = getattr(student,'city','no such attribute exists' )\n",
    "print(x)"
   ]
  },
  {
   "cell_type": "code",
   "execution_count": null,
   "metadata": {},
   "outputs": [],
   "source": [
    "x = getattr(student,'university','no such attribute exists' )\n",
    "print(x)"
   ]
  },
  {
   "cell_type": "code",
   "execution_count": null,
   "metadata": {},
   "outputs": [],
   "source": [
    "setattr(student,'university','AKTU,Lucknow')\n"
   ]
  },
  {
   "cell_type": "code",
   "execution_count": null,
   "metadata": {},
   "outputs": [],
   "source": [
    "x = getattr(student,'university','no such attribute exists' )\n",
    "print(x)"
   ]
  },
  {
   "cell_type": "code",
   "execution_count": null,
   "metadata": {},
   "outputs": [],
   "source": [
    "setattr(student,'country','India')"
   ]
  },
  {
   "cell_type": "code",
   "execution_count": null,
   "metadata": {},
   "outputs": [],
   "source": [
    "s2 = student()"
   ]
  },
  {
   "cell_type": "code",
   "execution_count": null,
   "metadata": {},
   "outputs": [],
   "source": [
    "print(s2.country)"
   ]
  },
  {
   "cell_type": "code",
   "execution_count": null,
   "metadata": {},
   "outputs": [],
   "source": [
    "delattr(student,'university')"
   ]
  },
  {
   "cell_type": "code",
   "execution_count": null,
   "metadata": {},
   "outputs": [],
   "source": [
    "x = getattr(student,'university','no such attribute exists' )\n",
    "print(x)"
   ]
  },
  {
   "cell_type": "code",
   "execution_count": null,
   "metadata": {},
   "outputs": [],
   "source": [
    "type(int)"
   ]
  },
  {
   "cell_type": "code",
   "execution_count": null,
   "metadata": {},
   "outputs": [],
   "source": [
    "x = 5\n",
    "type(x)"
   ]
  },
  {
   "cell_type": "code",
   "execution_count": null,
   "metadata": {},
   "outputs": [],
   "source": [
    "type(s2)"
   ]
  },
  {
   "cell_type": "markdown",
   "metadata": {},
   "source": [
    "# Magic Method or dunder method"
   ]
  },
  {
   "cell_type": "code",
   "execution_count": null,
   "metadata": {},
   "outputs": [],
   "source": [
    "num = 10\n",
    "num.__add__(6)"
   ]
  },
  {
   "cell_type": "code",
   "execution_count": null,
   "metadata": {},
   "outputs": [],
   "source": [
    "num = 14\n",
    "num.__floordiv__(3)"
   ]
  },
  {
   "cell_type": "code",
   "execution_count": null,
   "metadata": {},
   "outputs": [],
   "source": [
    "num = 20  \n",
    "num.__divmod__(3)   #gives (Quotient ,Remainder)"
   ]
  },
  {
   "cell_type": "code",
   "execution_count": null,
   "metadata": {},
   "outputs": [],
   "source": [
    "dir(student)\n"
   ]
  },
  {
   "cell_type": "code",
   "execution_count": null,
   "metadata": {},
   "outputs": [],
   "source": [
    "print(\"File two __name__ is set to: {}\" .format(__name__))"
   ]
  },
  {
   "cell_type": "code",
   "execution_count": null,
   "metadata": {},
   "outputs": [],
   "source": [
    "__name__"
   ]
  },
  {
   "cell_type": "code",
   "execution_count": null,
   "metadata": {},
   "outputs": [],
   "source": [
    "import RoughTrial\n",
    "RoughTrial.dsc()"
   ]
  },
  {
   "cell_type": "code",
   "execution_count": null,
   "metadata": {},
   "outputs": [],
   "source": [
    "class Person:\n",
    "    \n",
    "    def __new__(cls):\n",
    "        print (\"__new__ magic method is called\")\n",
    "        inst = object.__new__(cls)\n",
    "        return inst\n",
    "        \n",
    "    def __init__(self):\n",
    "        print (\"__init__ magic method is called\")\n",
    "        self.name= \"Amit\"\n",
    "        \n",
    "obj = Person()"
   ]
  },
  {
   "cell_type": "code",
   "execution_count": null,
   "metadata": {},
   "outputs": [],
   "source": [
    "class Person:\n",
    "    def __init__(self, name, age):\n",
    "        self.name = name\n",
    "        self.age = age\n",
    "        \n",
    "obj = Person(\"Amit\",23)\n",
    "print(obj.name,obj.age)     # works fine\n",
    "print(obj)                  # see the output???"
   ]
  },
  {
   "cell_type": "code",
   "execution_count": null,
   "metadata": {},
   "outputs": [],
   "source": [
    "class Person:\n",
    "    def __init__(self, name, age):\n",
    "        self.name = name\n",
    "        self.age = age\n",
    "    def __str__(self):\n",
    "        return \"Name: {}, Age: {}\".format(self.name, self.age)\n",
    "    \n",
    "obj = Person('Sarah', 25)\n",
    "print(obj)                  # print(obj) works fine with __str__\n",
    "obj                         # This is printing object id"
   ]
  },
  {
   "cell_type": "code",
   "execution_count": null,
   "metadata": {},
   "outputs": [],
   "source": [
    "class Person:\n",
    "    def __init__(self, name, age):\n",
    "        self.name = name\n",
    "        self.age = age\n",
    "    def __str__(self):\n",
    "        print('inside str')\n",
    "        return \"Person: {}, Age: {}\".format(self.name, self.age)\n",
    "    def __repr__(self):\n",
    "        print('inside repr')\n",
    "        return \" Person: {}, Age: {}\".format(self.name, self.age)\n",
    "\n",
    "obj = Person(\"Mohit\",24)\n",
    "print(obj)            # __str__ will be called implicitly\n",
    "obj                   #__repr__ will be called implicitly"
   ]
  },
  {
   "cell_type": "code",
   "execution_count": null,
   "metadata": {},
   "outputs": [],
   "source": []
  },
  {
   "cell_type": "code",
   "execution_count": null,
   "metadata": {},
   "outputs": [],
   "source": []
  },
  {
   "cell_type": "code",
   "execution_count": null,
   "metadata": {},
   "outputs": [],
   "source": [
    "class person:\n",
    "        \n",
    "    def __init__(self):   #to initialize value in newly created object\n",
    "        print(\"Hi, this is init method\")\n",
    "        self.name = \"Amit\"\n",
    "    \n",
    "    def __new__(cls):    # to create a new object\n",
    "        print(\"Hello, New method is called\")\n",
    "        a = object.__new__(cls)\n",
    "        return a\n",
    "    \n",
    "obj = person()\n",
    "\n",
    "# implicitly\n",
    "# obj.__new__()\n",
    "# obj.__init__()"
   ]
  },
  {
   "cell_type": "code",
   "execution_count": null,
   "metadata": {},
   "outputs": [],
   "source": [
    "class xyz:\n",
    "    def a(self):\n",
    "        print(\"abcd\")\n",
    "    def t(self):\n",
    "        print(\"tuvwx\")\n",
    "b = xyz()\n",
    "b.t()\n",
    "b.a()"
   ]
  },
  {
   "cell_type": "code",
   "execution_count": null,
   "metadata": {},
   "outputs": [],
   "source": [
    "class  person:\n",
    "    def __init__(self,name,age):\n",
    "        self.name = name\n",
    "        self.age = age\n",
    "        \n",
    "obj = person(\"Mohit\",23)\n",
    "# print(obj.name,obj.age)\n",
    "print(obj)"
   ]
  },
  {
   "cell_type": "code",
   "execution_count": null,
   "metadata": {},
   "outputs": [],
   "source": [
    "class  person:\n",
    "    def __init__(self,name,age):\n",
    "        self.name = name\n",
    "        self.age = age\n",
    "#     def __str__(self):\n",
    "#         print(self.name,self.age)\n",
    "#         return \"NIET\"\n",
    "    def __str__(self):\n",
    "        return \"NAME: {},AGE: {}\".format(self.name, self.age)\n",
    "obj = person(\"Mohit\",23)\n",
    "# print(obj.name,obj.age)\n",
    "print(obj)"
   ]
  },
  {
   "cell_type": "code",
   "execution_count": null,
   "metadata": {},
   "outputs": [],
   "source": [
    "class  person:\n",
    "    def __init__(self,name,age):\n",
    "        self.name = name\n",
    "        self.age = age\n",
    "#     def __str__(self):\n",
    "#         print(self.name,self.age)\n",
    "#         return \"NIET\"\n",
    "    def __str__(self):      #return printable string\n",
    "        return \"NAME: {},AGE: {}\".format(self.name, self.age)\n",
    "    \n",
    "    def __repr__(self):       # executes if direct running from interpreter\n",
    "        return \"NAME: {},AGE: {}\".format(self.name, self.age)\n",
    "obj = person(\"Mohit\",23)\n",
    "print(obj.name,obj.age)    # works fine\n",
    "print(obj)                 # works with __str__()\n",
    "obj                          # works with __repr__()"
   ]
  },
  {
   "cell_type": "code",
   "execution_count": null,
   "metadata": {},
   "outputs": [],
   "source": [
    "print(__name__)"
   ]
  },
  {
   "cell_type": "code",
   "execution_count": null,
   "metadata": {},
   "outputs": [],
   "source": [
    "import sys\n",
    "sys.path"
   ]
  },
  {
   "cell_type": "code",
   "execution_count": null,
   "metadata": {},
   "outputs": [],
   "source": [
    "import aimlc"
   ]
  },
  {
   "cell_type": "code",
   "execution_count": null,
   "metadata": {},
   "outputs": [],
   "source": [
    "aimlc.noida()"
   ]
  },
  {
   "cell_type": "code",
   "execution_count": null,
   "metadata": {},
   "outputs": [],
   "source": [
    "import aimlcc"
   ]
  },
  {
   "cell_type": "code",
   "execution_count": null,
   "metadata": {},
   "outputs": [],
   "source": [
    "aimlcc.delhi()"
   ]
  },
  {
   "cell_type": "code",
   "execution_count": null,
   "metadata": {},
   "outputs": [],
   "source": [
    "print(__name__)"
   ]
  },
  {
   "cell_type": "code",
   "execution_count": null,
   "metadata": {},
   "outputs": [],
   "source": [
    "m = 30\n",
    "x=20\n",
    "def fun1():\n",
    "    x = 10\n",
    "    y = 50\n",
    "    def fun2():\n",
    "        x = 5\n",
    "        z = 70\n",
    "        print(\"fun2: \",x,z,y,m)\n",
    "    fun2()\n",
    "    print(\"fun1: \",x,y,m)\n",
    "\n",
    "fun1()\n",
    "\n",
    "print(x,m)"
   ]
  },
  {
   "cell_type": "code",
   "execution_count": null,
   "metadata": {},
   "outputs": [],
   "source": [
    "m=30\n",
    "def fun1():\n",
    "    x=40\n",
    "    x=x+5\n",
    "    print(\"inside fun1:\", x)\n",
    "          \n",
    "print(m)        \n",
    "fun1()          \n",
    "print(m)\n",
    "fun1()\n",
    "print(m)\n",
    "          \n"
   ]
  },
  {
   "cell_type": "code",
   "execution_count": null,
   "metadata": {},
   "outputs": [],
   "source": [
    "class ABC:\n",
    "    def __init__(self, name):\n",
    "        self.name = name\n",
    "    def display(self, obj):\n",
    "        print(self.name, obj.name)\n",
    "        \n",
    "a = ABC(\"MOina\")\n",
    "b = ABC(\"Neha\")\n",
    "a.display(b)\n",
    "a.display(a)\n",
    "b.display(a)\n",
    "b.display(b)"
   ]
  },
  {
   "cell_type": "code",
   "execution_count": null,
   "metadata": {},
   "outputs": [],
   "source": [
    "from aimlcc import MyClass\n",
    "class ABC:\n",
    "    def __init__(self, name, age):\n",
    "        self.name = name\n",
    "        self.age = age\n",
    "    \n",
    "a = ABC(\"Mohit\", 25)\n",
    "b = ABC(\"Nupur\",26)\n",
    "obj = MyClass()\n",
    "obj.my_method(a)\n"
   ]
  },
  {
   "cell_type": "code",
   "execution_count": null,
   "metadata": {},
   "outputs": [],
   "source": [
    "class ABC:\n",
    "    def __init__(self, name):\n",
    "        self.name = name\n",
    "    def faltoo(self):\n",
    "        name = self.name+\" Sharma\"\n",
    "        return ABC(name)           # returning an object\n",
    "    \n",
    "    def display(self, obj):\n",
    "        print(self.name, obj.name)\n",
    "        \n",
    "a = ABC(\"MOina\")\n",
    "b = ABC(\"Neha\")\n",
    "c = a.faltoo()\n",
    "\n",
    "print(c.name)\n"
   ]
  },
  {
   "cell_type": "code",
   "execution_count": null,
   "metadata": {},
   "outputs": [],
   "source": []
  },
  {
   "cell_type": "code",
   "execution_count": 6,
   "metadata": {},
   "outputs": [
    {
     "name": "stdout",
     "output_type": "stream",
     "text": [
      "Point is (-6, -9)\n"
     ]
    }
   ],
   "source": [
    "#Program to find midpoint\n",
    "class Point:\n",
    "    def __init__(self, x, y):\n",
    "        self.x = x\n",
    "        self.y = y\n",
    "        \n",
    "    def midpoint(self,target):\n",
    "        x = (self.x + target.x)/2\n",
    "        y = (self.y + target.y)/2\n",
    "        return Point(x,y)\n",
    "    \n",
    "    @staticmethod\n",
    "    def Length(obj1,obj2):\n",
    "        a= (obj1.x-obj2.x)**2\n",
    "        b = (obj1.y-obj2.y)**2\n",
    "        l = (a+b)**0.5\n",
    "        print(\"Length of line is \",l)\n",
    "        return l\n",
    "    @staticmethod\n",
    "    def subtract(obj1,obj2):\n",
    "        a= (obj1.x-obj2.x)\n",
    "        b = (obj1.y-obj2.y)\n",
    "        return Point(a,b)\n",
    "    \n",
    "    def display(self):\n",
    "        print(\"Point is ({}, {})\".format(self.x,self.y))\n",
    "    \n",
    "    \n",
    "    \n",
    "A = Point(4,21)\n",
    "B = Point(10,30)\n",
    "C = Point(2,6)\n",
    "# C.Length(A,B)\n",
    "# # print(\"Length of line: \",x)\n",
    "# C = A.midpoint(B)\n",
    "# C.display()\n",
    "D = C.subtract(A,B)\n",
    "D.display()"
   ]
  },
  {
   "cell_type": "code",
   "execution_count": null,
   "metadata": {},
   "outputs": [],
   "source": [
    "class Faculty:\n",
    "    def __init__(self, title, name):\n",
    "        self. name = name\n",
    "        self.title = title\n",
    "    def display(self):\n",
    "        print(\" Name of Faculty: \",self. title+self.name)\n",
    "              \n",
    "              "
   ]
  },
  {
   "cell_type": "code",
   "execution_count": null,
   "metadata": {},
   "outputs": [],
   "source": [
    "x = Faculty(\"Mr\", \"Harsh Vardhan Mishra\")\n",
    "x.display()"
   ]
  },
  {
   "cell_type": "code",
   "execution_count": null,
   "metadata": {},
   "outputs": [],
   "source": [
    "x = 5\n",
    "y = 7\n",
    "print(\"**{}*****{}**\".format(x,y))"
   ]
  },
  {
   "cell_type": "code",
   "execution_count": null,
   "metadata": {},
   "outputs": [],
   "source": [
    "class A:\n",
    "    x = 5\n",
    "    def fun1(self):\n",
    "        print(\"I am fun1\")\n",
    "    def fun5(self):\n",
    "        pass\n",
    "        \n",
    "class B(A):\n",
    "    y = 10\n",
    "    x = 25\n",
    "    def fun2(self):\n",
    "        print(\" I am fun 2\")\n",
    "    def fun5(self):\n",
    "        pass\n"
   ]
  },
  {
   "cell_type": "code",
   "execution_count": null,
   "metadata": {},
   "outputs": [],
   "source": [
    "b= B()\n",
    "b.fun5()"
   ]
  },
  {
   "cell_type": "code",
   "execution_count": null,
   "metadata": {},
   "outputs": [],
   "source": [
    "class Person:                        #ABSTRACT CLASS\n",
    "    def __init__(self,name,age):\n",
    "        self.name = name\n",
    "        self.age = age\n",
    "    def display(self):\n",
    "        print(\"Name: \",self.name)\n",
    "        print(\"Age: \",self.age)\n",
    "        \n",
    "    def faltoo(self,x,y):\n",
    "        print(\"I am Person class\", x+y)\n",
    "        \n",
    "    def bekar(self):\n",
    "        print(\"Bekar Method\")\n",
    "    def anymethod(self):              #ABSTRACT METHOD # this method has no implementation in base class\n",
    "        pass\n",
    "    def add(self, x,y):\n",
    "        print(x+y)\n",
    "        \n",
    "class Student(Person):\n",
    "    def __init__(self,name,age,roll_no,branch):\n",
    "        Person.__init__(self,name,age)\n",
    "        self.rollno = roll_no\n",
    "        self.branch = branch\n",
    "        \n",
    "    def show(self):\n",
    "        Person.display(self)\n",
    "        print(\"Roll Number : \", self.rollno)\n",
    "        print(\"Branch: \",self.branch)\n",
    "        \n",
    "    def anymethod(self):            #we are implementing here\n",
    "        print(45*3)\n",
    "        \n",
    "    def faltoo(self):\n",
    "        print(\"I am Student class\")\n",
    "    def add(self, x,y):\n",
    "        print(\"Hello\"+x+y)\n",
    "        \n",
    "class Teacher(Person):\n",
    "    def __init__(self, name, age, department, emp_id):\n",
    "        Person.__init__(self,name,age)\n",
    "        self.department = department\n",
    "        self.emp_id = emp_id\n",
    "        \n",
    "    def display(self):\n",
    "        Person.display(self)\n",
    "        print(\"Department: \",self.department)\n",
    "        print(\"Employee id: \",self.emp_id)\n",
    "        \n",
    "    def faltoo(self):\n",
    "        print(\"I am Teacher class\") \n",
    "        \n"
   ]
  },
  {
   "cell_type": "code",
   "execution_count": null,
   "metadata": {},
   "outputs": [],
   "source": [
    "s3 = Student(\"Akkash\",255,26,\"Finance\")\n",
    "# s3.bekar()\n",
    "# s3.faltoo(4,5)\n",
    "#s3.anymethod()\n",
    "s3.add(\"amit\", \"Kumar\")"
   ]
  },
  {
   "cell_type": "code",
   "execution_count": null,
   "metadata": {},
   "outputs": [],
   "source": [
    "t2 = Teacher(\"Abhishek\",41,\"Computer Science\",\"B254\")\n",
    "t2.display()"
   ]
  },
  {
   "cell_type": "code",
   "execution_count": null,
   "metadata": {},
   "outputs": [],
   "source": [
    "s1 = Student(\"Amit\",22,56,\"AIML\")\n",
    "s1.show()"
   ]
  },
  {
   "cell_type": "code",
   "execution_count": null,
   "metadata": {},
   "outputs": [],
   "source": [
    "class Father:\n",
    "    def __init__(self, surname, address):\n",
    "        self.surname=surname\n",
    "        self.address = address\n",
    "    def display(self):\n",
    "        print(\"Surname : \",self.surname)\n",
    "        print(\"Address : \",self.address)\n",
    "        \n",
    "class Mother:\n",
    "    def __init__(self, address, language):\n",
    "        self.address = address\n",
    "        self.language = language\n",
    "    def display(self):\n",
    "        print(\"Address: \",self.address)\n",
    "        print(\"Language : \",self.language)\n",
    "        \n",
    "class Son(Father, Mother):\n",
    "    def __init__(self, name, surname,address, language):\n",
    "        self.name = name\n",
    "        Father.__init__(self,surname,address)\n",
    "        Mother.__init__(self,address,language)\n",
    "        \n",
    "    def display(self):\n",
    "        print(\"Name : \", self.name)\n",
    "        Father.display(self)\n",
    "        Mother.display(self)\n",
    "        \n",
    "a = Son(\"Mukesh\",\"Gupta\",\"Alpha-1, Greater Noida\",\"Hindi\")\n",
    "a.display()"
   ]
  },
  {
   "cell_type": "markdown",
   "metadata": {},
   "source": [
    "# Polymorphism"
   ]
  },
  {
   "cell_type": "code",
   "execution_count": null,
   "metadata": {},
   "outputs": [],
   "source": [
    "#Operator overriding\n",
    "a = 10\n",
    "b = 15\n",
    "c = 7.25\n",
    "s1 = \"Greater \"\n",
    "s2 = \"Noida\"\n",
    "\n",
    "print(a + b)         # results int\n",
    "print(b + c)         # results float\n",
    "print(s1 + s2)       # results str\n"
   ]
  },
  {
   "cell_type": "code",
   "execution_count": null,
   "metadata": {},
   "outputs": [],
   "source": [
    "# Built-in function overriding\n",
    "str = 'Hi There !'\n",
    "tup = ('Sun','Mon','Tue','Wed','Thu','Fri')\n",
    "ls = ['Red','Green','Blue','Yellow']\n",
    "dict = {'Name':'Abhishek','Branch':'Computer Science and Engineering','Age':20}\n",
    "print(len(str))\n",
    "print(len(tup))\n",
    "print(len(ls))\n",
    "print(len(dict))"
   ]
  },
  {
   "cell_type": "code",
   "execution_count": null,
   "metadata": {},
   "outputs": [],
   "source": [
    "class A:\n",
    "    x=5\n",
    "    y=6\n",
    "    z=8\n",
    "    def display(self):\n",
    "        print(self.x,self.y,self.z)\n",
    "    \n",
    "class B(A):\n",
    "    w=12\n",
    "    def display(self):\n",
    "        A.display(self)\n",
    "        print(self.w)\n",
    "class C(A):\n",
    "    p = 15\n",
    "    def display(self):\n",
    "        A.display(self)\n",
    "        print(self.p)\n",
    "class D(B,C):\n",
    "    t=56\n",
    "    def display(self):\n",
    "        B.display(self)\n",
    "        C.display(self)\n",
    "        print(self.t)\n",
    "        \n",
    "    \n",
    "d = D()\n",
    "d.display()\n",
    "    \n"
   ]
  },
  {
   "cell_type": "code",
   "execution_count": null,
   "metadata": {},
   "outputs": [],
   "source": [
    "class A:\n",
    "    x=5\n",
    "    y=6\n",
    "    z=8\n",
    "    @classmethod\n",
    "    def display(cls):\n",
    "        print(cls.x,cls.y,cls.z)\n",
    "        \n",
    "a = A()\n",
    "A.display()\n",
    "a.display()"
   ]
  },
  {
   "cell_type": "code",
   "execution_count": null,
   "metadata": {},
   "outputs": [],
   "source": [
    "class Person:                        \n",
    "    def __init__(self,name,age):\n",
    "        self.name = name\n",
    "        self.age = age\n",
    "    def display(self):\n",
    "        print(\"Name: \",self.name)\n",
    "        print(\"Age: \",self.age)\n",
    "        \n",
    "   \n",
    "        \n",
    "class Student(Person):\n",
    "    def __init__(self,name,age,marks,branch):\n",
    "        super().__init__(name,age)\n",
    "        self.marks = marks\n",
    "        self.branch = branch\n",
    "        \n",
    "    def show(self):\n",
    "        super().display()\n",
    "        print(\"Marks : \", self.marks)\n",
    "        print(\"Branch: \",self.branch)\n",
    "        \n",
    "    def __add__(self,obj):          # for operator overloading\n",
    "        return self.marks+obj.marks\n",
    "    \n",
    "    def addmarks(self,obj):      #This is UD function\n",
    "        return self.marks+obj.marks\n",
    "        \n",
    "    \n",
    "class Teacher(Person):\n",
    "    def __init__(self, name, age, department, emp_id):\n",
    "        super().__init__(name,age)\n",
    "        self.department = department\n",
    "        self.emp_id = emp_id\n",
    "        \n",
    "    def display(self):\n",
    "        super().display()\n",
    "        print(\"Department: \",self.department)\n",
    "        print(\"Employee id: \",self.emp_id)\n",
    "        \n",
    "s1 = Student(\"Alok\",22,75,\"AIML\")\n",
    "s2 = Student(\"Amit\",22,60,\"AIML\")\n",
    "print(s1+s2)"
   ]
  },
  {
   "cell_type": "code",
   "execution_count": null,
   "metadata": {},
   "outputs": [],
   "source": []
  }
 ],
 "metadata": {
  "kernelspec": {
   "display_name": "Python 3",
   "language": "python",
   "name": "python3"
  },
  "language_info": {
   "codemirror_mode": {
    "name": "ipython",
    "version": 3
   },
   "file_extension": ".py",
   "mimetype": "text/x-python",
   "name": "python",
   "nbconvert_exporter": "python",
   "pygments_lexer": "ipython3",
   "version": "3.7.4"
  }
 },
 "nbformat": 4,
 "nbformat_minor": 2
}
